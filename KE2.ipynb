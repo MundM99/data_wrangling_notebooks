{
 "cells": [
  {
   "cell_type": "raw",
   "metadata": {},
   "source": [
    "Name: Max Mößlang\n",
    "Matrikelnummer:8431973"
   ]
  },
  {
   "cell_type": "markdown",
   "metadata": {},
   "source": [
    "___"
   ]
  },
  {
   "cell_type": "code",
   "execution_count": 1,
   "metadata": {
    "ExecuteTime": {
     "end_time": "2022-11-10T13:51:19.311449Z",
     "start_time": "2022-11-10T13:51:18.721561Z"
    }
   },
   "outputs": [],
   "source": [
    "# Imports\n",
    "import pandas as pd\n",
    "import numpy as np"
   ]
  },
  {
   "cell_type": "markdown",
   "metadata": {},
   "source": [
    "___\n",
    "**_Bitte beachten:_**\n",
    "\n",
    "- In Code-Zellen soll (bei Bedarf kommentierter) Code eingefügt werden. In Raw-Zellen erwarten wir Antworten im Freitext-Format.\n",
    "- Fragestellungen sind teilweise bewusst etwas offener formuliert, weil Sie auch im Arbeitsleben nur selten mit ganz spezifischen Anweisungen rechnen können. Es gibt häufig mehrere mögliche Lösungen, dies wird in der Korrektur  berücksichtigt.\n",
    "\n",
    "___"
   ]
  },
  {
   "cell_type": "markdown",
   "metadata": {},
   "source": [
    "# (I can't get no) satisfaction\n",
    "Wir werden in diesem Kurs mit einem Datensatz arbeiten, der verschiedene Informationen über Angestellte einer fiktiven Firma namens *Fiktiva* enthält. Mithilfe des Datensatzes soll die Fragestellung beantwortet werden, ob ein\\*e Angestellte\\*r in der Firma zufrieden ist (`satisfied = 1`) oder nicht (`satisfied = 0`). In dieser Kurseinheit werden wir uns mit den Daten vertraut machen und mit einigen Fragen zur Datenqualität auseinandersetzen.\n",
    "\n",
    "Manchmal werden zur Beantwortung von Fragen weitere Informationen benötigt. Sie können hierfür auch externe Quellen verwenden und bspw. die Datei `metadata.txt` zu Rate ziehen, aber auch alle Informationen aus dem Fiktiva-Newsletter. "
   ]
  },
  {
   "cell_type": "markdown",
   "metadata": {},
   "source": [
    "## Daten laden\n",
    "Den Datensatz (*employees_satisfaction.csv*) finden Sie im Moodle. Laden Sie ihn in ein Pandas-Dataframe. Geben Sie die ersten 10 Zeilen aus. "
   ]
  },
  {
   "cell_type": "code",
   "execution_count": 4,
   "metadata": {
    "ExecuteTime": {
     "end_time": "2022-11-10T13:51:19.317702Z",
     "start_time": "2022-11-10T13:51:19.313586Z"
    }
   },
   "outputs": [
    {
     "data": {
      "text/html": [
       "<div>\n",
       "<style scoped>\n",
       "    .dataframe tbody tr th:only-of-type {\n",
       "        vertical-align: middle;\n",
       "    }\n",
       "\n",
       "    .dataframe tbody tr th {\n",
       "        vertical-align: top;\n",
       "    }\n",
       "\n",
       "    .dataframe thead th {\n",
       "        text-align: right;\n",
       "    }\n",
       "</style>\n",
       "<table border=\"1\" class=\"dataframe\">\n",
       "  <thead>\n",
       "    <tr style=\"text-align: right;\">\n",
       "      <th></th>\n",
       "      <th>Unnamed: 0</th>\n",
       "      <th>age</th>\n",
       "      <th>Dept</th>\n",
       "      <th>education</th>\n",
       "      <th>recruitment_type</th>\n",
       "      <th>job_level</th>\n",
       "      <th>rating</th>\n",
       "      <th>awards</th>\n",
       "      <th>certifications</th>\n",
       "      <th>salary</th>\n",
       "      <th>gender</th>\n",
       "      <th>entry_date</th>\n",
       "      <th>last_raise</th>\n",
       "      <th>satisfied</th>\n",
       "    </tr>\n",
       "    <tr>\n",
       "      <th>emp_id</th>\n",
       "      <th></th>\n",
       "      <th></th>\n",
       "      <th></th>\n",
       "      <th></th>\n",
       "      <th></th>\n",
       "      <th></th>\n",
       "      <th></th>\n",
       "      <th></th>\n",
       "      <th></th>\n",
       "      <th></th>\n",
       "      <th></th>\n",
       "      <th></th>\n",
       "      <th></th>\n",
       "      <th></th>\n",
       "    </tr>\n",
       "  </thead>\n",
       "  <tbody>\n",
       "    <tr>\n",
       "      <th>HR8270</th>\n",
       "      <td>0</td>\n",
       "      <td>28</td>\n",
       "      <td>HR</td>\n",
       "      <td>PG</td>\n",
       "      <td>Referral</td>\n",
       "      <td>5</td>\n",
       "      <td>2.0</td>\n",
       "      <td>1</td>\n",
       "      <td>0</td>\n",
       "      <td>86750</td>\n",
       "      <td>m</td>\n",
       "      <td>2019-02-01</td>\n",
       "      <td>NaN</td>\n",
       "      <td>1</td>\n",
       "    </tr>\n",
       "    <tr>\n",
       "      <th>TECH1860</th>\n",
       "      <td>1</td>\n",
       "      <td>50</td>\n",
       "      <td>Technology</td>\n",
       "      <td>PG</td>\n",
       "      <td>Recruitment Agency</td>\n",
       "      <td>3</td>\n",
       "      <td>5.0</td>\n",
       "      <td>2</td>\n",
       "      <td>1</td>\n",
       "      <td>42419</td>\n",
       "      <td>Male</td>\n",
       "      <td>2017-01-17</td>\n",
       "      <td>NaN</td>\n",
       "      <td>0</td>\n",
       "    </tr>\n",
       "    <tr>\n",
       "      <th>TECH6390</th>\n",
       "      <td>2</td>\n",
       "      <td>43</td>\n",
       "      <td>Technology</td>\n",
       "      <td>UG</td>\n",
       "      <td>Referral</td>\n",
       "      <td>4</td>\n",
       "      <td>1.0</td>\n",
       "      <td>2</td>\n",
       "      <td>0</td>\n",
       "      <td>65715</td>\n",
       "      <td>f</td>\n",
       "      <td>2012-08-27</td>\n",
       "      <td>NaN</td>\n",
       "      <td>1</td>\n",
       "    </tr>\n",
       "    <tr>\n",
       "      <th>SAL6191</th>\n",
       "      <td>3</td>\n",
       "      <td>44</td>\n",
       "      <td>Sales</td>\n",
       "      <td>PG</td>\n",
       "      <td>On-Campus</td>\n",
       "      <td>2</td>\n",
       "      <td>3.0</td>\n",
       "      <td>0</td>\n",
       "      <td>0</td>\n",
       "      <td>29805</td>\n",
       "      <td>f</td>\n",
       "      <td>2017-07-25</td>\n",
       "      <td>NaN</td>\n",
       "      <td>1</td>\n",
       "    </tr>\n",
       "    <tr>\n",
       "      <th>HR6734</th>\n",
       "      <td>4</td>\n",
       "      <td>33</td>\n",
       "      <td>HR</td>\n",
       "      <td>UG</td>\n",
       "      <td>Recruitment Agency</td>\n",
       "      <td>2</td>\n",
       "      <td>1.0</td>\n",
       "      <td>5</td>\n",
       "      <td>0</td>\n",
       "      <td>29805</td>\n",
       "      <td>m</td>\n",
       "      <td>2019-05-17</td>\n",
       "      <td>NaN</td>\n",
       "      <td>1</td>\n",
       "    </tr>\n",
       "    <tr>\n",
       "      <th>PUR7265</th>\n",
       "      <td>5</td>\n",
       "      <td>40</td>\n",
       "      <td>Purchasing</td>\n",
       "      <td>UG</td>\n",
       "      <td>Walk-in</td>\n",
       "      <td>3</td>\n",
       "      <td>3.0</td>\n",
       "      <td>7</td>\n",
       "      <td>1</td>\n",
       "      <td>42419</td>\n",
       "      <td>m</td>\n",
       "      <td>2004-04-22</td>\n",
       "      <td>0.02</td>\n",
       "      <td>1</td>\n",
       "    </tr>\n",
       "    <tr>\n",
       "      <th>PUR1466</th>\n",
       "      <td>6</td>\n",
       "      <td>26</td>\n",
       "      <td>Purchasing</td>\n",
       "      <td>UG</td>\n",
       "      <td>Referral</td>\n",
       "      <td>5</td>\n",
       "      <td>5.0</td>\n",
       "      <td>2</td>\n",
       "      <td>0</td>\n",
       "      <td>86750</td>\n",
       "      <td>m</td>\n",
       "      <td>2019-12-10</td>\n",
       "      <td>NaN</td>\n",
       "      <td>1</td>\n",
       "    </tr>\n",
       "    <tr>\n",
       "      <th>TECH5426</th>\n",
       "      <td>7</td>\n",
       "      <td>25</td>\n",
       "      <td>Technology</td>\n",
       "      <td>UG</td>\n",
       "      <td>Recruitment Agency</td>\n",
       "      <td>1</td>\n",
       "      <td>1.0</td>\n",
       "      <td>4</td>\n",
       "      <td>0</td>\n",
       "      <td>24076</td>\n",
       "      <td>Female</td>\n",
       "      <td>2017-03-18</td>\n",
       "      <td>NaN</td>\n",
       "      <td>0</td>\n",
       "    </tr>\n",
       "    <tr>\n",
       "      <th>HR6578</th>\n",
       "      <td>8</td>\n",
       "      <td>35</td>\n",
       "      <td>HR</td>\n",
       "      <td>PG</td>\n",
       "      <td>Referral</td>\n",
       "      <td>3</td>\n",
       "      <td>4.0</td>\n",
       "      <td>0</td>\n",
       "      <td>0</td>\n",
       "      <td>42419</td>\n",
       "      <td>f</td>\n",
       "      <td>2015-04-02</td>\n",
       "      <td>NaN</td>\n",
       "      <td>1</td>\n",
       "    </tr>\n",
       "    <tr>\n",
       "      <th>TECH9322</th>\n",
       "      <td>9</td>\n",
       "      <td>45</td>\n",
       "      <td>Technology</td>\n",
       "      <td>PG</td>\n",
       "      <td>Referral</td>\n",
       "      <td>3</td>\n",
       "      <td>3.0</td>\n",
       "      <td>9</td>\n",
       "      <td>0</td>\n",
       "      <td>42419</td>\n",
       "      <td>f</td>\n",
       "      <td>2004-03-19</td>\n",
       "      <td>0.07</td>\n",
       "      <td>0</td>\n",
       "    </tr>\n",
       "  </tbody>\n",
       "</table>\n",
       "</div>"
      ],
      "text/plain": [
       "          Unnamed: 0  age        Dept education    recruitment_type  \\\n",
       "emp_id                                                                \n",
       "HR8270             0   28          HR        PG            Referral   \n",
       "TECH1860           1   50  Technology        PG  Recruitment Agency   \n",
       "TECH6390           2   43  Technology        UG            Referral   \n",
       "SAL6191            3   44       Sales        PG           On-Campus   \n",
       "HR6734             4   33          HR        UG  Recruitment Agency   \n",
       "PUR7265            5   40  Purchasing        UG             Walk-in   \n",
       "PUR1466            6   26  Purchasing        UG            Referral   \n",
       "TECH5426           7   25  Technology        UG  Recruitment Agency   \n",
       "HR6578             8   35          HR        PG            Referral   \n",
       "TECH9322           9   45  Technology        PG            Referral   \n",
       "\n",
       "          job_level  rating  awards  certifications  salary  gender  \\\n",
       "emp_id                                                                \n",
       "HR8270            5     2.0       1               0   86750       m   \n",
       "TECH1860          3     5.0       2               1   42419    Male   \n",
       "TECH6390          4     1.0       2               0   65715       f   \n",
       "SAL6191           2     3.0       0               0   29805       f   \n",
       "HR6734            2     1.0       5               0   29805       m   \n",
       "PUR7265           3     3.0       7               1   42419       m   \n",
       "PUR1466           5     5.0       2               0   86750       m   \n",
       "TECH5426          1     1.0       4               0   24076  Female   \n",
       "HR6578            3     4.0       0               0   42419       f   \n",
       "TECH9322          3     3.0       9               0   42419       f   \n",
       "\n",
       "          entry_date  last_raise  satisfied  \n",
       "emp_id                                       \n",
       "HR8270    2019-02-01         NaN          1  \n",
       "TECH1860  2017-01-17         NaN          0  \n",
       "TECH6390  2012-08-27         NaN          1  \n",
       "SAL6191   2017-07-25         NaN          1  \n",
       "HR6734    2019-05-17         NaN          1  \n",
       "PUR7265   2004-04-22        0.02          1  \n",
       "PUR1466   2019-12-10         NaN          1  \n",
       "TECH5426  2017-03-18         NaN          0  \n",
       "HR6578    2015-04-02         NaN          1  \n",
       "TECH9322  2004-03-19        0.07          0  "
      ]
     },
     "execution_count": 4,
     "metadata": {},
     "output_type": "execute_result"
    }
   ],
   "source": [
    "# Ihre Lösung\n",
    "# Hinweis: Laden Sie den Datensatz so, dass die erste Spalte als Index (Row Label) verwendet wird\n",
    "satisfaction_data = pd.read_csv(\"employees_satisfaction.csv\", index_col=1)\n",
    "satisfaction_data.head(10)"
   ]
  },
  {
   "cell_type": "markdown",
   "metadata": {},
   "source": [
    "## Erste Datenanalyse"
   ]
  },
  {
   "cell_type": "markdown",
   "metadata": {},
   "source": [
    "Machen Sie sich mit den Daten vertraut:\n",
    "- Wie viele Zeilen hat der Datensatz?\n",
    "- Wie viele Spalten hat der Datensatz?\n",
    "- Welchen Datentyp haben die einzelnen Spalten?\n",
    "- Ermitteln Sie statistische Kennzeichen der numerischen Spalten.\n",
    "- Welche Informationen stellt der Datensatz für die Vorhersage der Zufriedenheit bereit? Beachten Sie hierfür auch die Angaben in der Datei `metadata.txt`\n",
    "- Gibt es fehlende Werte in den Daten?"
   ]
  },
  {
   "cell_type": "code",
   "execution_count": 24,
   "metadata": {
    "ExecuteTime": {
     "end_time": "2022-11-10T13:51:19.324833Z",
     "start_time": "2022-11-10T13:51:19.320002Z"
    }
   },
   "outputs": [],
   "source": [
    "# Ihre Lösung (nutzen Sie dafür untenstehende Zellen)\n"
   ]
  },
  {
   "cell_type": "code",
   "execution_count": 5,
   "metadata": {
    "ExecuteTime": {
     "end_time": "2022-11-10T13:51:19.332667Z",
     "start_time": "2022-11-10T13:51:19.329971Z"
    }
   },
   "outputs": [
    {
     "name": "stdout",
     "output_type": "stream",
     "text": [
      "Der Datensatz hat 500 Zeilen!\n"
     ]
    }
   ],
   "source": [
    "# Wie viele Zeilen hat der Datensatz? \n",
    "row_count=len(satisfaction_data)\n",
    "print(f'Der Datensatz hat {row_count} Zeilen!')"
   ]
  },
  {
   "cell_type": "code",
   "execution_count": 6,
   "metadata": {
    "ExecuteTime": {
     "end_time": "2022-11-10T13:51:19.338525Z",
     "start_time": "2022-11-10T13:51:19.335485Z"
    }
   },
   "outputs": [
    {
     "name": "stdout",
     "output_type": "stream",
     "text": [
      "Der Datensatz hat 14 Spalten!\n"
     ]
    }
   ],
   "source": [
    "# Wie viele Spalten hat der Datensatz?\n",
    "column_count=len(satisfaction_data.columns)\n",
    "print(f'Der Datensatz hat {column_count} Spalten!')"
   ]
  },
  {
   "cell_type": "code",
   "execution_count": 7,
   "metadata": {
    "ExecuteTime": {
     "end_time": "2022-11-10T13:51:19.344388Z",
     "start_time": "2022-11-10T13:51:19.341026Z"
    }
   },
   "outputs": [
    {
     "name": "stdout",
     "output_type": "stream",
     "text": [
      "Der Datensatz beinhaltet folgende Spalten:\n",
      "Unnamed: 0\n",
      "age\n",
      "Dept\n",
      "education\n",
      "recruitment_type\n",
      "job_level\n",
      "rating\n",
      "awards\n",
      "certifications\n",
      "salary\n",
      "gender\n",
      "entry_date\n",
      "last_raise\n",
      "satisfied\n"
     ]
    }
   ],
   "source": [
    "# Welche Spalten beinhaltet der Datensatz?\n",
    "print(\"Der Datensatz beinhaltet folgende Spalten:\")\n",
    "for spalten in satisfaction_data.columns:\n",
    "    \n",
    "    print(spalten)"
   ]
  },
  {
   "cell_type": "code",
   "execution_count": 8,
   "metadata": {
    "ExecuteTime": {
     "end_time": "2022-11-10T13:51:19.349681Z",
     "start_time": "2022-11-10T13:51:19.346807Z"
    }
   },
   "outputs": [
    {
     "name": "stdout",
     "output_type": "stream",
     "text": [
      "Hier sind die Datentypen zu den jeweiligen Spalten:\n"
     ]
    },
    {
     "data": {
      "text/plain": [
       "Unnamed: 0            int64\n",
       "age                   int64\n",
       "Dept                 object\n",
       "education            object\n",
       "recruitment_type     object\n",
       "job_level             int64\n",
       "rating              float64\n",
       "awards                int64\n",
       "certifications        int64\n",
       "salary                int64\n",
       "gender               object\n",
       "entry_date           object\n",
       "last_raise          float64\n",
       "satisfied             int64\n",
       "dtype: object"
      ]
     },
     "execution_count": 8,
     "metadata": {},
     "output_type": "execute_result"
    }
   ],
   "source": [
    "# Welchen Datentyp haben die einzelnen Spalten?\n",
    "print('Hier sind die Datentypen zu den jeweiligen Spalten:')\n",
    "satisfaction_data.dtypes"
   ]
  },
  {
   "cell_type": "code",
   "execution_count": 9,
   "metadata": {},
   "outputs": [
    {
     "name": "stdout",
     "output_type": "stream",
     "text": [
      "Hier sind statistische Kennzeichen zu den einzelnen Spalten:\n",
      "\n",
      "       Unnamed: 0         age   job_level      rating      awards  \\\n",
      "count  500.000000  500.000000  500.000000  471.000000  500.000000   \n",
      "mean   249.500000   39.694000    3.032000    3.093418    4.570000   \n",
      "std    144.481833    8.477033    1.423738    1.423129    2.989812   \n",
      "min      0.000000   22.000000    1.000000    1.000000    0.000000   \n",
      "25%    124.750000   34.000000    2.000000    2.000000    2.000000   \n",
      "50%    249.500000   39.000000    3.000000    3.000000    5.000000   \n",
      "75%    374.250000   47.000000    4.000000    4.000000    7.000000   \n",
      "max    499.000000   56.000000    5.000000    5.000000   25.000000   \n",
      "\n",
      "       certifications        salary  last_raise   satisfied  \n",
      "count      500.000000    500.000000   26.000000  500.000000  \n",
      "mean         0.514000  50416.056000    0.049231    0.714000  \n",
      "std          0.628167  23671.392661    0.029519    0.452342  \n",
      "min          0.000000  24076.000000    0.010000    0.000000  \n",
      "25%          0.000000  29805.000000    0.020000    0.000000  \n",
      "50%          0.000000  42419.000000    0.050000    1.000000  \n",
      "75%          1.000000  65715.000000    0.077500    1.000000  \n",
      "max          9.000000  86750.000000    0.100000    1.000000  \n"
     ]
    }
   ],
   "source": [
    "# Ermitteln Sie statistische Kennzeichen der numerischen Spalten.\n",
    "print(\"Hier sind statistische Kennzeichen zu den einzelnen Spalten:\\n\")\n",
    "print(satisfaction_data.describe())"
   ]
  },
  {
   "cell_type": "code",
   "execution_count": 10,
   "metadata": {
    "ExecuteTime": {
     "end_time": "2022-11-10T13:51:19.360356Z",
     "start_time": "2022-11-10T13:51:19.357376Z"
    }
   },
   "outputs": [
    {
     "data": {
      "text/plain": [
       "(array([  0,   1,   2,   3,   4,   6,   7,   8,  10,  11,  12,  13,  14,\n",
       "         15,  16,  17,  18,  19,  20,  21,  22,  23,  24,  25,  26,  27,\n",
       "         28,  29,  30,  31,  32,  33,  34,  35,  36,  37,  38,  40,  41,\n",
       "         42,  43,  44,  46,  47,  48,  49,  50,  51,  52,  53,  54,  55,\n",
       "         56,  57,  58,  59,  60,  61,  61,  62,  63,  64,  65,  66,  67,\n",
       "         67,  68,  69,  69,  70,  70,  71,  72,  73,  74,  75,  76,  77,\n",
       "         78,  79,  80,  81,  82,  83,  84,  85,  86,  87,  88,  89,  90,\n",
       "         91,  92,  93,  96,  97,  98,  99, 100, 101, 102, 103, 104, 105,\n",
       "        106, 107, 108, 109, 110, 111, 112, 113, 114, 115, 116, 117, 117,\n",
       "        118, 119, 120, 121, 122, 123, 123, 124, 125, 126, 127, 128, 129,\n",
       "        130, 131, 133, 135, 136, 137, 138, 139, 140, 141, 142, 143, 144,\n",
       "        145, 145, 146, 147, 149, 150, 152, 153, 154, 155, 156, 158, 159,\n",
       "        160, 162, 163, 164, 165, 166, 167, 168, 169, 170, 171, 172, 173,\n",
       "        174, 175, 176, 177, 178, 179, 180, 181, 182, 183, 184, 184, 185,\n",
       "        186, 187, 188, 189, 190, 191, 192, 193, 194, 195, 196, 197, 198,\n",
       "        199, 200, 201, 202, 204, 205, 206, 207, 208, 209, 210, 211, 212,\n",
       "        213, 214, 215, 216, 217, 218, 219, 220, 221, 222, 222, 223, 224,\n",
       "        225, 226, 227, 228, 229, 230, 231, 232, 233, 234, 236, 236, 237,\n",
       "        238, 240, 241, 242, 243, 244, 245, 246, 247, 248, 249, 250, 251,\n",
       "        252, 253, 254, 255, 256, 257, 258, 259, 260, 261, 261, 262, 263,\n",
       "        264, 265, 266, 267, 268, 269, 270, 271, 272, 273, 275, 276, 277,\n",
       "        278, 279, 280, 281, 282, 283, 283, 284, 285, 286, 287, 288, 289,\n",
       "        290, 291, 292, 293, 294, 295, 296, 297, 298, 299, 300, 301, 302,\n",
       "        303, 304, 305, 306, 307, 310, 311, 312, 313, 314, 315, 316, 317,\n",
       "        318, 319, 320, 321, 322, 323, 323, 324, 325, 326, 327, 328, 329,\n",
       "        330, 331, 332, 333, 334, 335, 336, 337, 338, 339, 340, 341, 342,\n",
       "        343, 343, 344, 345, 346, 347, 348, 349, 350, 351, 352, 353, 354,\n",
       "        355, 356, 356, 357, 357, 358, 359, 361, 361, 362, 363, 364, 365,\n",
       "        365, 366, 367, 368, 369, 369, 370, 371, 372, 373, 374, 376, 377,\n",
       "        378, 379, 380, 381, 382, 383, 384, 385, 387, 388, 388, 390, 390,\n",
       "        391, 392, 393, 393, 394, 395, 396, 397, 398, 398, 399, 400, 401,\n",
       "        402, 403, 404, 404, 405, 406, 407, 408, 409, 410, 411, 412, 413,\n",
       "        414, 415, 416, 416, 417, 418, 419, 420, 421, 422, 423, 424, 425,\n",
       "        426, 427, 428, 429, 430, 431, 432, 433, 434, 435, 436, 437, 438,\n",
       "        439, 440, 440, 441, 442, 443, 444, 445, 446, 447, 448, 449, 450,\n",
       "        451, 451, 452, 454, 455, 456, 457, 458, 458, 459, 460, 461, 462,\n",
       "        463, 464, 465, 466, 467, 468, 470, 471, 472, 473, 474, 475, 475,\n",
       "        476, 477, 479, 480, 481, 483, 483, 484, 485, 486, 487, 487, 488,\n",
       "        489, 490, 491, 492, 493, 494, 495, 496, 497, 497, 498, 499]),\n",
       " array([12, 12, 12, 12, 12, 12, 12, 12, 12, 12, 12, 12, 12, 12, 12, 12, 12,\n",
       "        12, 12, 12, 12, 12, 12, 12, 12, 12, 12, 12, 12, 12, 12, 12, 12, 12,\n",
       "        12, 12, 12, 12, 12, 12, 12, 12, 12, 12, 12, 12, 12, 12, 12, 12, 12,\n",
       "        12, 12, 12, 12, 12, 12,  6, 12, 12, 12, 12, 12, 12,  6, 12, 12,  6,\n",
       "        12,  6, 12, 12, 12, 12, 12, 12, 12, 12, 12, 12, 12, 12, 12, 12, 12,\n",
       "        12, 12, 12, 12, 12, 12, 12, 12, 12, 12, 12, 12, 12, 12, 12, 12, 12,\n",
       "        12, 12, 12, 12, 12, 12, 12, 12, 12, 12, 12, 12, 12,  6, 12, 12, 12,\n",
       "        12, 12, 12,  6, 12, 12, 12, 12, 12, 12, 12, 12, 12, 12, 12, 12, 12,\n",
       "        12, 12, 12, 12, 12, 12, 12,  6, 12, 12, 12, 12, 12, 12, 12, 12, 12,\n",
       "        12, 12, 12, 12, 12, 12, 12, 12, 12, 12, 12, 12, 12, 12, 12, 12, 12,\n",
       "        12, 12, 12, 12, 12, 12, 12, 12, 12,  6, 12, 12, 12, 12, 12, 12, 12,\n",
       "        12, 12, 12, 12, 12, 12, 12, 12, 12, 12, 12, 12, 12, 12, 12, 12, 12,\n",
       "        12, 12, 12, 12, 12, 12, 12, 12, 12, 12, 12, 12, 12,  6, 12, 12, 12,\n",
       "        12, 12, 12, 12, 12, 12, 12, 12, 12, 12,  6, 12, 12, 12, 12, 12, 12,\n",
       "        12, 12, 12, 12, 12, 12, 12, 12, 12, 12, 12, 12, 12, 12, 12, 12, 12,\n",
       "        12, 10, 12, 12, 12, 12, 12, 12, 12, 12, 12, 12, 12, 12, 12, 12, 12,\n",
       "        12, 12, 12, 12, 12, 12,  6, 12, 12, 12, 12, 12, 12, 12, 12, 12, 12,\n",
       "        12, 12, 12, 12, 12, 12, 12, 12, 12, 12, 12, 12, 12, 12, 12, 12, 12,\n",
       "        12, 12, 12, 12, 12, 12, 12, 12, 12, 12, 12,  6, 12, 12, 12, 12, 12,\n",
       "        12, 12, 12, 12, 12, 12, 12, 12, 12, 12, 12, 12, 12, 12, 12,  6, 12,\n",
       "        12, 12, 12, 12, 12, 12, 12, 12, 12, 12, 12, 12,  6, 12,  6, 12, 12,\n",
       "        12,  6, 12, 12, 12, 12,  6, 12, 12, 12, 12,  6, 12, 12, 12, 12, 12,\n",
       "        12, 12, 12, 12, 12, 12, 12, 12, 12, 12, 12, 12,  6, 12, 10, 12, 12,\n",
       "        12,  6, 12, 12, 12, 12, 12,  6, 12, 12, 12, 12, 12, 12,  6, 12, 12,\n",
       "        12, 12, 12, 12, 12, 12, 12, 12, 12, 12,  6, 12, 12, 12, 12, 12, 12,\n",
       "        12, 12, 12, 12, 12, 12, 12, 12, 12, 12, 12, 12, 12, 12, 12, 12, 12,\n",
       "        12,  6, 12, 12, 12, 12, 12, 12, 12, 12, 12, 12, 12,  6, 12, 12, 12,\n",
       "        12, 12, 12,  6, 12, 12, 12, 12, 12, 12, 12, 12, 12, 12, 12, 12, 12,\n",
       "        12, 12, 12, 10, 12, 12, 12, 12, 12, 12,  6, 12, 12, 12, 12,  6, 12,\n",
       "        12, 12, 12, 12, 12, 12, 12, 12, 12,  6, 12, 12, 12]))"
      ]
     },
     "execution_count": 10,
     "metadata": {},
     "output_type": "execute_result"
    }
   ],
   "source": [
    "# Gibt es fehlende Werte in den Daten?<\n",
    "np.where(pd.isnull(satisfaction_data))\n",
    "# Ja sowohl im Rating als auch bei den Gehaltserhöhungen, im Output sieht man die Reihe mit der jeweiligen Spalte"
   ]
  },
  {
   "cell_type": "markdown",
   "metadata": {},
   "source": [
    "## Datenqualität\n",
    "\n",
    "*Hinweis: Bei den folgenden Fragen geht es um Ihre Einschätzung. Ziel ist es, sich mit dem Thema Datenqualität auseinanderzusetzen und sich mit Fragestellungen in Bezug auf Data Fitness, etc. zu beschäftigen.*\n",
    "\n",
    "Was denken Sie über den Datensatz? Ist dieser geeignet, um die Fragestellung über die Zufriedenheit der Angestellten zu beantworten? Reichen die angegebenen Informationen zur Beantwortung der Fragestellung aus? Wenn nicht, welche Informationen würden Sie noch verwenden?"
   ]
  },
  {
   "cell_type": "raw",
   "metadata": {},
   "source": [
    "Ihre Einschätzung:\n",
    "Nein um genaue Vorhersagen zu treffen sind die Informationen zum Teil zu wage und können ohne Hintergrund nicht interpretiert werden. So sind einige Werte ohne eine Tabelle mit\n",
    "Referenzen relativ nutzlos. So z.B. Rating und Job Level. Diese ermöglichen zwar eine grobe Zuordnung, aber lassen keine genauere Kategorisierung zu. Auch der Artikel im Newsletter\n",
    "hilft hierbei nicht wirklich weiter.\n",
    "Ein guter Überblick über die Situation in dem Unternehmen wird jedoch gegeben und gewisse Tendenzen lassen sich sicherlich feststellen."
   ]
  },
  {
   "cell_type": "markdown",
   "metadata": {},
   "source": [
    "Für welche weiteren Fragestellungen/Analysen könnte der Datensatz geeignet sein?"
   ]
  },
  {
   "cell_type": "raw",
   "metadata": {},
   "source": [
    "Ihre Einschätzung:\n",
    "Wie im Analyseteil bereits ermittelt lassen sich einige statistisch Interessante Stichpunkte aus den Daten herauslesen. So z.B. Altersdurschnitt, Gehaltsverteilungen,\n",
    "insbesondere könnte auch hier z.B. die Gender Pay Gap analysiert werden, welche häufig in Unternehmen zur Diskussion steht."
   ]
  },
  {
   "cell_type": "markdown",
   "metadata": {},
   "source": [
    "Stellen Sie Überlegungen zur Datenerhebung an. Welche Faktoren könnten die Datenqualität beeinträchtigen?"
   ]
  },
  {
   "cell_type": "raw",
   "metadata": {},
   "source": [
    "Ihre Einschätzung:\n",
    "Ein sehr großer Kritikpunkt ist in meinen Augen die Tatsache, dass die Daten nicht anonym erhoben wurden. Zu jeder Person wird ein Kürzel angegeben, was jedoch in den Analysen nicht weiterhilft.\n",
    "Die Personen könnten jedoch in ihrer Entscheidung maßgeblich beeinträchtigt worden sein."
   ]
  },
  {
   "cell_type": "markdown",
   "metadata": {},
   "source": [
    "Beurteilen Sie den Datensatz bzgl. der weiteren Aspekte zur Datenqualität, die Sie im Kurstext kennengelernt haben:"
   ]
  },
  {
   "cell_type": "code",
   "execution_count": 38,
   "metadata": {
    "ExecuteTime": {
     "end_time": "2022-11-10T13:51:19.409114Z",
     "start_time": "2022-11-10T13:51:19.406055Z"
    }
   },
   "outputs": [
    {
     "name": "stdout",
     "output_type": "stream",
     "text": [
      "In Rating fehlen: 29 Werte!\n",
      "In Last_Raise fehlen: 474 Werte!\n",
      "In der Spalte last_raise sind 94.8 Prozent der Spalten leer!\n"
     ]
    }
   ],
   "source": [
    "# Platz für Analysen bzgl. der Datenqualität\n",
    "\n",
    "#Fehlende Datenpunkte\n",
    "missingRating = satisfaction_data[\"rating\"].isnull().sum()\n",
    "print(\"In Rating fehlen: {} Werte!\".format(missingRating))\n",
    "missingRaise = satisfaction_data[\"last_raise\"].isnull().sum()\n",
    "print(\"In Last_Raise fehlen: {} Werte!\".format(missingRaise))\n",
    "\n",
    "#Prozentsatz fehlende Datenpunkte bei Gehaltserhöhungen\n",
    "percentileNoRaise=474/500*100\n",
    "print(\"In der Spalte last_raise sind {} Prozent der Spalten leer!\".format(percentileNoRaise))\n"
   ]
  },
  {
   "cell_type": "raw",
   "metadata": {},
   "source": [
    "Ihre Einschätzung:\n",
    "Zu den einzelnen Aspekten:\n",
    "\n",
    "Is it of known Pedigree?\n",
    "Ja! Da die Umfrage von der Firma selbst erhoben wurde, ist die Quelle durchaus bekannt.\n",
    "\n",
    "Is it timely?\n",
    "In dem Kontext des Newsletters ja, da die Ergebnisse innerhalb eines Monats veröffentlicht wurden und nicht sehr zeitkritisch sind.\n",
    "In unserem Kontext der Auswertung (Quelle 2021, Auswertung Oktober 2023) sind die Daten jedoch schon etwas veraltet.\n",
    "\n",
    "Is it complete?\n",
    "Nein. Wie durch Python analysiert lassen sich doch einige Lücken in dem Datensatz finden. Die Lücken in Rating sind zwar eindeutig, aber die Lücken in Last Raise können auch davon kommen,\n",
    "dass noch kein Gehalt erhöht wurde. Was jedoch sehr unwahrscheinlich ist, da nur 5% der Mitarbeiter überhaupt eine Gehaltserhöhung bekommen haben sollen.\n",
    "\n",
    "Is it well-annotated?\n",
    "Eindeutig nicht, da kein einziger Kommentar zu den einzelnen Spalten existiert.\n",
    "\n",
    "Is it high volume?\n",
    "Es ist sicherlich kein übertrieben großer Datensatz, aber mit Daten von 500 Mitarbeitern (also allen laut Newsletter) lassen sich jedoch akzeptable Aussagen treffen.\n",
    "\n",
    "Is it consistent?\n",
    "Da hier nur ein Datensatz existiert und dieser in sich selbst keine besonderen Abweichungen vorweist ist dieser in sich selbst beständig. Nur die Datenlücken sind natürlich auch in diesem\n",
    "Punkt fragwürdig.\n",
    "\n",
    "Is it Multivariate?\n",
    "Da sich die Fragestellung einzig und allein auf die Zufriedenheit begrenzt hat sind 14 Spalten recht umfassend.\n",
    "\n",
    "Is it atomic?\n",
    "Teilweise ja, teilweise nein. Das Mitarbeitergehalt ist z.B. sehr Präzise aufgeführt. Die Job Levels und Ratings aber eher ungenau.\n",
    "\n",
    "Is it clear?\n",
    "Job Levels, Ratings und Certifications lassen allein durch ihre Labels keine genauen Rückschlüsse auf ihre Bedeutung ziehen. Hier wären noch Kommentare oder ein Aufschlüsselungsdokument vonnöten.\n",
    "Der Rest ist jedoch sehr eindeutig gestaltet.\n",
    "\n",
    "Is it dimensionally structured?\n",
    "Auch hier zu Teilen ja und zu Teilen nein. Es werden gute Klassifikatoren ausgewählt, diese aber nicht besonders gut aufgeschlüsselt.\n",
    "\n"
   ]
  },
  {
   "cell_type": "markdown",
   "metadata": {},
   "source": [
    "Stellen Sie sich vor, dieser Datensatz soll dazu verwendet werden, um die Zufriedenheit von Angestellten vorherzusagen und daraus wiederum Rückschlüsse auf das Kündigungswahrscheinlichkeiten zu schließen. Für wie zuverlässig würden Sie entsprechende Wahrscheinlichkeiten halten?"
   ]
  },
  {
   "cell_type": "raw",
   "metadata": {},
   "source": [
    "Ihre Einschätzung:\n",
    "Eher unzuverlässig, allein dadurch, da die Zufriedenheit an sich als simples true oder false ermittelt wurde. Eine Unzufriedenheit beim Arbeitnehmer kann sich aber in ein deutlich feineres\n",
    "Spektrum einordnen lassen und die Schwelle zur Kündigung dadurch auch genauer abgeschätzt werden."
   ]
  },
  {
   "cell_type": "markdown",
   "metadata": {},
   "source": [
    "Nehmen Sie an, mithilfe des Datensatzes wäre ein zuverlässiges Modell mit guten Vorhersagewahrscheinlichkeiten trainiert worden, um die Zufriedenheit der Angestellten zu bestimmen. Nun möchte eine andere Firma aus der gleichen Branche dasselbe Modell für ihre Angestellten nutzen. Denken Sie, das Modell würde auch für die andere Firma zuverlässige Vorhersagen treffen?"
   ]
  },
  {
   "cell_type": "raw",
   "metadata": {},
   "source": [
    "Ihre Einschätzung:\n",
    "Sofern die Firma ähnliche Strukturen aufweist ja. Falls aber komplett neue Abteilungen aufgeführt werden und neue Faktoren in den Datensätzen eingeschlossen werden, sollten die Ergebnisse\n",
    "stärker abweichen."
   ]
  },
  {
   "cell_type": "markdown",
   "metadata": {},
   "source": [
    "Überlegen Sie, welche Vorverarbeitungsschritte für den Datensatz notwendig wären."
   ]
  },
  {
   "cell_type": "raw",
   "metadata": {},
   "source": [
    "Ihre Einschätzung:\n",
    "Mit höchster Priorität sollten skalare Spalten wie Ratings und Job-Level in einer Tabelle verdeutlicht werden. Zudem wäre es natürlich förderlich fehlende Datenpunkte nachzutragen oder Mitarbeiter\n",
    "mit fehlenden Angaben aus der Analyse zu streichen."
   ]
  },
  {
   "cell_type": "code",
   "execution_count": null,
   "metadata": {},
   "outputs": [],
   "source": []
  }
 ],
 "metadata": {
  "kernelspec": {
   "display_name": "Python 3 (ipykernel)",
   "language": "python",
   "name": "python3"
  },
  "language_info": {
   "codemirror_mode": {
    "name": "ipython",
    "version": 3
   },
   "file_extension": ".py",
   "mimetype": "text/x-python",
   "name": "python",
   "nbconvert_exporter": "python",
   "pygments_lexer": "ipython3",
   "version": "3.10.8"
  },
  "toc": {
   "base_numbering": "1",
   "nav_menu": {},
   "number_sections": true,
   "sideBar": true,
   "skip_h1_title": true,
   "title_cell": "Table of Contents",
   "title_sidebar": "Contents",
   "toc_cell": false,
   "toc_position": {
    "height": "calc(100% - 180px)",
    "left": "10px",
    "top": "150px",
    "width": "307.2px"
   },
   "toc_section_display": true,
   "toc_window_display": true
  }
 },
 "nbformat": 4,
 "nbformat_minor": 4
}
