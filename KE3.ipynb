{
 "cells": [
  {
   "cell_type": "raw",
   "metadata": {
    "ExecuteTime": {
     "end_time": "2022-02-23T10:26:52.226330Z",
     "start_time": "2022-02-23T10:26:52.189669Z"
    }
   },
   "source": [
    "Name: Max Mößlang\n",
    "Matrikelnummer: 8431973"
   ]
  },
  {
   "cell_type": "markdown",
   "metadata": {},
   "source": [
    "___"
   ]
  },
  {
   "cell_type": "code",
   "execution_count": 154,
   "metadata": {
    "ExecuteTime": {
     "end_time": "2022-02-23T10:26:52.883521Z",
     "start_time": "2022-02-23T10:26:52.480098Z"
    }
   },
   "outputs": [],
   "source": [
    "# Imports\n",
    "import pandas as pd"
   ]
  },
  {
   "cell_type": "markdown",
   "metadata": {},
   "source": [
    "___\n",
    "**_Bitte beachten:_**\n",
    "\n",
    "- In Code-Zellen soll (bei Bedarf kommentierter) Code eingefügt werden. In Raw-Zellen erwarten wir Antworten im Freitext-Format.\n",
    "- Fragestellungen sind teilweise bewusst etwas offener formuliert, weil Sie auch im Arbeitsleben nur selten mit ganz spezifischen Anweisungen rechnen können.Es gibt häufig mehrere mögliche Lösungen, dies wird in der Korrektur  berücksichtigt.\n",
    "\n",
    "___"
   ]
  },
  {
   "cell_type": "markdown",
   "metadata": {},
   "source": [
    "# (I can't get no) satisfaction\n",
    "Wir arbeiten weiterhin mit dem Datensatz über die Zufriedenheit von Angestellten der fiktiven Firma *Fiktiva*. In dieser Kurseinheit werden wir einige Techniken zur Datenvorverarbeitung / zum Data Cleaning anwenden.\n",
    "\n",
    "Sie können hier, wenn Sie weitere Informationen benötigen, ebenfalls externe Quellen verwenden und bspw. die Datei `metadata.txt` zu Rate ziehen, aber auch alle Informationen aus dem Fiktiva-Newsletter. "
   ]
  },
  {
   "cell_type": "code",
   "execution_count": 155,
   "metadata": {
    "ExecuteTime": {
     "end_time": "2022-02-23T10:26:53.588112Z",
     "start_time": "2022-02-23T10:26:53.554691Z"
    }
   },
   "outputs": [
    {
     "data": {
      "text/html": [
       "<div>\n",
       "<style scoped>\n",
       "    .dataframe tbody tr th:only-of-type {\n",
       "        vertical-align: middle;\n",
       "    }\n",
       "\n",
       "    .dataframe tbody tr th {\n",
       "        vertical-align: top;\n",
       "    }\n",
       "\n",
       "    .dataframe thead th {\n",
       "        text-align: right;\n",
       "    }\n",
       "</style>\n",
       "<table border=\"1\" class=\"dataframe\">\n",
       "  <thead>\n",
       "    <tr style=\"text-align: right;\">\n",
       "      <th></th>\n",
       "      <th>emp_id</th>\n",
       "      <th>age</th>\n",
       "      <th>Dept</th>\n",
       "      <th>education</th>\n",
       "      <th>recruitment_type</th>\n",
       "      <th>job_level</th>\n",
       "      <th>rating</th>\n",
       "      <th>awards</th>\n",
       "      <th>certifications</th>\n",
       "      <th>salary</th>\n",
       "      <th>gender</th>\n",
       "      <th>entry_date</th>\n",
       "      <th>last_raise</th>\n",
       "      <th>satisfied</th>\n",
       "    </tr>\n",
       "  </thead>\n",
       "  <tbody>\n",
       "    <tr>\n",
       "      <th>0</th>\n",
       "      <td>HR8270</td>\n",
       "      <td>28</td>\n",
       "      <td>HR</td>\n",
       "      <td>PG</td>\n",
       "      <td>Referral</td>\n",
       "      <td>5</td>\n",
       "      <td>2.0</td>\n",
       "      <td>1</td>\n",
       "      <td>0</td>\n",
       "      <td>86750</td>\n",
       "      <td>m</td>\n",
       "      <td>2019-02-01</td>\n",
       "      <td>NaN</td>\n",
       "      <td>1</td>\n",
       "    </tr>\n",
       "    <tr>\n",
       "      <th>1</th>\n",
       "      <td>TECH1860</td>\n",
       "      <td>50</td>\n",
       "      <td>Technology</td>\n",
       "      <td>PG</td>\n",
       "      <td>Recruitment Agency</td>\n",
       "      <td>3</td>\n",
       "      <td>5.0</td>\n",
       "      <td>2</td>\n",
       "      <td>1</td>\n",
       "      <td>42419</td>\n",
       "      <td>Male</td>\n",
       "      <td>2017-01-17</td>\n",
       "      <td>NaN</td>\n",
       "      <td>0</td>\n",
       "    </tr>\n",
       "    <tr>\n",
       "      <th>2</th>\n",
       "      <td>TECH6390</td>\n",
       "      <td>43</td>\n",
       "      <td>Technology</td>\n",
       "      <td>UG</td>\n",
       "      <td>Referral</td>\n",
       "      <td>4</td>\n",
       "      <td>1.0</td>\n",
       "      <td>2</td>\n",
       "      <td>0</td>\n",
       "      <td>65715</td>\n",
       "      <td>f</td>\n",
       "      <td>2012-08-27</td>\n",
       "      <td>NaN</td>\n",
       "      <td>1</td>\n",
       "    </tr>\n",
       "    <tr>\n",
       "      <th>3</th>\n",
       "      <td>SAL6191</td>\n",
       "      <td>44</td>\n",
       "      <td>Sales</td>\n",
       "      <td>PG</td>\n",
       "      <td>On-Campus</td>\n",
       "      <td>2</td>\n",
       "      <td>3.0</td>\n",
       "      <td>0</td>\n",
       "      <td>0</td>\n",
       "      <td>29805</td>\n",
       "      <td>f</td>\n",
       "      <td>2017-07-25</td>\n",
       "      <td>NaN</td>\n",
       "      <td>1</td>\n",
       "    </tr>\n",
       "    <tr>\n",
       "      <th>4</th>\n",
       "      <td>HR6734</td>\n",
       "      <td>33</td>\n",
       "      <td>HR</td>\n",
       "      <td>UG</td>\n",
       "      <td>Recruitment Agency</td>\n",
       "      <td>2</td>\n",
       "      <td>1.0</td>\n",
       "      <td>5</td>\n",
       "      <td>0</td>\n",
       "      <td>29805</td>\n",
       "      <td>m</td>\n",
       "      <td>2019-05-17</td>\n",
       "      <td>NaN</td>\n",
       "      <td>1</td>\n",
       "    </tr>\n",
       "    <tr>\n",
       "      <th>5</th>\n",
       "      <td>PUR7265</td>\n",
       "      <td>40</td>\n",
       "      <td>Purchasing</td>\n",
       "      <td>UG</td>\n",
       "      <td>Walk-in</td>\n",
       "      <td>3</td>\n",
       "      <td>3.0</td>\n",
       "      <td>7</td>\n",
       "      <td>1</td>\n",
       "      <td>42419</td>\n",
       "      <td>m</td>\n",
       "      <td>2004-04-22</td>\n",
       "      <td>0.02</td>\n",
       "      <td>1</td>\n",
       "    </tr>\n",
       "    <tr>\n",
       "      <th>6</th>\n",
       "      <td>PUR1466</td>\n",
       "      <td>26</td>\n",
       "      <td>Purchasing</td>\n",
       "      <td>UG</td>\n",
       "      <td>Referral</td>\n",
       "      <td>5</td>\n",
       "      <td>5.0</td>\n",
       "      <td>2</td>\n",
       "      <td>0</td>\n",
       "      <td>86750</td>\n",
       "      <td>m</td>\n",
       "      <td>2019-12-10</td>\n",
       "      <td>NaN</td>\n",
       "      <td>1</td>\n",
       "    </tr>\n",
       "    <tr>\n",
       "      <th>7</th>\n",
       "      <td>TECH5426</td>\n",
       "      <td>25</td>\n",
       "      <td>Technology</td>\n",
       "      <td>UG</td>\n",
       "      <td>Recruitment Agency</td>\n",
       "      <td>1</td>\n",
       "      <td>1.0</td>\n",
       "      <td>4</td>\n",
       "      <td>0</td>\n",
       "      <td>24076</td>\n",
       "      <td>Female</td>\n",
       "      <td>2017-03-18</td>\n",
       "      <td>NaN</td>\n",
       "      <td>0</td>\n",
       "    </tr>\n",
       "    <tr>\n",
       "      <th>8</th>\n",
       "      <td>HR6578</td>\n",
       "      <td>35</td>\n",
       "      <td>HR</td>\n",
       "      <td>PG</td>\n",
       "      <td>Referral</td>\n",
       "      <td>3</td>\n",
       "      <td>4.0</td>\n",
       "      <td>0</td>\n",
       "      <td>0</td>\n",
       "      <td>42419</td>\n",
       "      <td>f</td>\n",
       "      <td>2015-04-02</td>\n",
       "      <td>NaN</td>\n",
       "      <td>1</td>\n",
       "    </tr>\n",
       "    <tr>\n",
       "      <th>9</th>\n",
       "      <td>TECH9322</td>\n",
       "      <td>45</td>\n",
       "      <td>Technology</td>\n",
       "      <td>PG</td>\n",
       "      <td>Referral</td>\n",
       "      <td>3</td>\n",
       "      <td>3.0</td>\n",
       "      <td>9</td>\n",
       "      <td>0</td>\n",
       "      <td>42419</td>\n",
       "      <td>f</td>\n",
       "      <td>2004-03-19</td>\n",
       "      <td>0.07</td>\n",
       "      <td>0</td>\n",
       "    </tr>\n",
       "  </tbody>\n",
       "</table>\n",
       "</div>"
      ],
      "text/plain": [
       "     emp_id  age        Dept education    recruitment_type  job_level  rating  \\\n",
       "0    HR8270   28          HR        PG            Referral          5     2.0   \n",
       "1  TECH1860   50  Technology        PG  Recruitment Agency          3     5.0   \n",
       "2  TECH6390   43  Technology        UG            Referral          4     1.0   \n",
       "3   SAL6191   44       Sales        PG           On-Campus          2     3.0   \n",
       "4    HR6734   33          HR        UG  Recruitment Agency          2     1.0   \n",
       "5   PUR7265   40  Purchasing        UG             Walk-in          3     3.0   \n",
       "6   PUR1466   26  Purchasing        UG            Referral          5     5.0   \n",
       "7  TECH5426   25  Technology        UG  Recruitment Agency          1     1.0   \n",
       "8    HR6578   35          HR        PG            Referral          3     4.0   \n",
       "9  TECH9322   45  Technology        PG            Referral          3     3.0   \n",
       "\n",
       "   awards  certifications  salary  gender  entry_date  last_raise  satisfied  \n",
       "0       1               0   86750       m  2019-02-01         NaN          1  \n",
       "1       2               1   42419    Male  2017-01-17         NaN          0  \n",
       "2       2               0   65715       f  2012-08-27         NaN          1  \n",
       "3       0               0   29805       f  2017-07-25         NaN          1  \n",
       "4       5               0   29805       m  2019-05-17         NaN          1  \n",
       "5       7               1   42419       m  2004-04-22        0.02          1  \n",
       "6       2               0   86750       m  2019-12-10         NaN          1  \n",
       "7       4               0   24076  Female  2017-03-18         NaN          0  \n",
       "8       0               0   42419       f  2015-04-02         NaN          1  \n",
       "9       9               0   42419       f  2004-03-19        0.07          0  "
      ]
     },
     "execution_count": 155,
     "metadata": {},
     "output_type": "execute_result"
    }
   ],
   "source": [
    "# Datensatz laden\n",
    "# Hinweis: Laden Sie den Datensatz so, dass die erste Spalte als Index (Row Label) verwendet wird\n",
    "df = satisfaction_data = pd.read_csv(\"employees_satisfaction.csv\", index_col=0)\n",
    "satisfaction_data.head(10)"
   ]
  },
  {
   "cell_type": "markdown",
   "metadata": {},
   "source": [
    "## Spalten umbennen"
   ]
  },
  {
   "cell_type": "markdown",
   "metadata": {},
   "source": [
    "Die Spalte `Dept` wird als einzige groß geschrieben. Benennen Sie die Spalte deshalb in `department` um."
   ]
  },
  {
   "cell_type": "code",
   "execution_count": 156,
   "metadata": {
    "ExecuteTime": {
     "end_time": "2022-02-23T10:22:46.512713Z",
     "start_time": "2022-02-23T10:22:46.504715Z"
    }
   },
   "outputs": [],
   "source": [
    "# Ihre Lösung\n",
    "df=df.rename({\"Dept\":\"department\"},axis=1)"
   ]
  },
  {
   "cell_type": "markdown",
   "metadata": {},
   "source": [
    "## Spalten transformieren\n",
    "Um ein besseres Gefühl für die Werte der Spalte `salary` zu bekommen, wandeln wir die Werte, die aktuell in US-Dollar angegeben sind, in Euro um. Aktualisieren Sie anschließend auch die Datei `metadata.txt`.\n",
    "\n",
    "*Hinweis: Verwenden Sie folgenden Umrechnungskurs: $ 1\\$ = 0.9€ $*"
   ]
  },
  {
   "cell_type": "code",
   "execution_count": 157,
   "metadata": {
    "ExecuteTime": {
     "end_time": "2022-02-23T10:22:46.528709Z",
     "start_time": "2022-02-23T10:22:46.515719Z"
    }
   },
   "outputs": [
    {
     "data": {
      "text/html": [
       "<div>\n",
       "<style scoped>\n",
       "    .dataframe tbody tr th:only-of-type {\n",
       "        vertical-align: middle;\n",
       "    }\n",
       "\n",
       "    .dataframe tbody tr th {\n",
       "        vertical-align: top;\n",
       "    }\n",
       "\n",
       "    .dataframe thead th {\n",
       "        text-align: right;\n",
       "    }\n",
       "</style>\n",
       "<table border=\"1\" class=\"dataframe\">\n",
       "  <thead>\n",
       "    <tr style=\"text-align: right;\">\n",
       "      <th></th>\n",
       "      <th>emp_id</th>\n",
       "      <th>age</th>\n",
       "      <th>department</th>\n",
       "      <th>education</th>\n",
       "      <th>recruitment_type</th>\n",
       "      <th>job_level</th>\n",
       "      <th>rating</th>\n",
       "      <th>awards</th>\n",
       "      <th>certifications</th>\n",
       "      <th>salary</th>\n",
       "      <th>gender</th>\n",
       "      <th>entry_date</th>\n",
       "      <th>last_raise</th>\n",
       "      <th>satisfied</th>\n",
       "    </tr>\n",
       "  </thead>\n",
       "  <tbody>\n",
       "    <tr>\n",
       "      <th>0</th>\n",
       "      <td>HR8270</td>\n",
       "      <td>28</td>\n",
       "      <td>HR</td>\n",
       "      <td>PG</td>\n",
       "      <td>Referral</td>\n",
       "      <td>5</td>\n",
       "      <td>2.0</td>\n",
       "      <td>1</td>\n",
       "      <td>0</td>\n",
       "      <td>78075.0</td>\n",
       "      <td>m</td>\n",
       "      <td>2019-02-01</td>\n",
       "      <td>NaN</td>\n",
       "      <td>1</td>\n",
       "    </tr>\n",
       "    <tr>\n",
       "      <th>1</th>\n",
       "      <td>TECH1860</td>\n",
       "      <td>50</td>\n",
       "      <td>Technology</td>\n",
       "      <td>PG</td>\n",
       "      <td>Recruitment Agency</td>\n",
       "      <td>3</td>\n",
       "      <td>5.0</td>\n",
       "      <td>2</td>\n",
       "      <td>1</td>\n",
       "      <td>38177.1</td>\n",
       "      <td>Male</td>\n",
       "      <td>2017-01-17</td>\n",
       "      <td>NaN</td>\n",
       "      <td>0</td>\n",
       "    </tr>\n",
       "    <tr>\n",
       "      <th>2</th>\n",
       "      <td>TECH6390</td>\n",
       "      <td>43</td>\n",
       "      <td>Technology</td>\n",
       "      <td>UG</td>\n",
       "      <td>Referral</td>\n",
       "      <td>4</td>\n",
       "      <td>1.0</td>\n",
       "      <td>2</td>\n",
       "      <td>0</td>\n",
       "      <td>59143.5</td>\n",
       "      <td>f</td>\n",
       "      <td>2012-08-27</td>\n",
       "      <td>NaN</td>\n",
       "      <td>1</td>\n",
       "    </tr>\n",
       "    <tr>\n",
       "      <th>3</th>\n",
       "      <td>SAL6191</td>\n",
       "      <td>44</td>\n",
       "      <td>Sales</td>\n",
       "      <td>PG</td>\n",
       "      <td>On-Campus</td>\n",
       "      <td>2</td>\n",
       "      <td>3.0</td>\n",
       "      <td>0</td>\n",
       "      <td>0</td>\n",
       "      <td>26824.5</td>\n",
       "      <td>f</td>\n",
       "      <td>2017-07-25</td>\n",
       "      <td>NaN</td>\n",
       "      <td>1</td>\n",
       "    </tr>\n",
       "    <tr>\n",
       "      <th>4</th>\n",
       "      <td>HR6734</td>\n",
       "      <td>33</td>\n",
       "      <td>HR</td>\n",
       "      <td>UG</td>\n",
       "      <td>Recruitment Agency</td>\n",
       "      <td>2</td>\n",
       "      <td>1.0</td>\n",
       "      <td>5</td>\n",
       "      <td>0</td>\n",
       "      <td>26824.5</td>\n",
       "      <td>m</td>\n",
       "      <td>2019-05-17</td>\n",
       "      <td>NaN</td>\n",
       "      <td>1</td>\n",
       "    </tr>\n",
       "    <tr>\n",
       "      <th>5</th>\n",
       "      <td>PUR7265</td>\n",
       "      <td>40</td>\n",
       "      <td>Purchasing</td>\n",
       "      <td>UG</td>\n",
       "      <td>Walk-in</td>\n",
       "      <td>3</td>\n",
       "      <td>3.0</td>\n",
       "      <td>7</td>\n",
       "      <td>1</td>\n",
       "      <td>38177.1</td>\n",
       "      <td>m</td>\n",
       "      <td>2004-04-22</td>\n",
       "      <td>0.02</td>\n",
       "      <td>1</td>\n",
       "    </tr>\n",
       "    <tr>\n",
       "      <th>6</th>\n",
       "      <td>PUR1466</td>\n",
       "      <td>26</td>\n",
       "      <td>Purchasing</td>\n",
       "      <td>UG</td>\n",
       "      <td>Referral</td>\n",
       "      <td>5</td>\n",
       "      <td>5.0</td>\n",
       "      <td>2</td>\n",
       "      <td>0</td>\n",
       "      <td>78075.0</td>\n",
       "      <td>m</td>\n",
       "      <td>2019-12-10</td>\n",
       "      <td>NaN</td>\n",
       "      <td>1</td>\n",
       "    </tr>\n",
       "    <tr>\n",
       "      <th>7</th>\n",
       "      <td>TECH5426</td>\n",
       "      <td>25</td>\n",
       "      <td>Technology</td>\n",
       "      <td>UG</td>\n",
       "      <td>Recruitment Agency</td>\n",
       "      <td>1</td>\n",
       "      <td>1.0</td>\n",
       "      <td>4</td>\n",
       "      <td>0</td>\n",
       "      <td>21668.4</td>\n",
       "      <td>Female</td>\n",
       "      <td>2017-03-18</td>\n",
       "      <td>NaN</td>\n",
       "      <td>0</td>\n",
       "    </tr>\n",
       "    <tr>\n",
       "      <th>8</th>\n",
       "      <td>HR6578</td>\n",
       "      <td>35</td>\n",
       "      <td>HR</td>\n",
       "      <td>PG</td>\n",
       "      <td>Referral</td>\n",
       "      <td>3</td>\n",
       "      <td>4.0</td>\n",
       "      <td>0</td>\n",
       "      <td>0</td>\n",
       "      <td>38177.1</td>\n",
       "      <td>f</td>\n",
       "      <td>2015-04-02</td>\n",
       "      <td>NaN</td>\n",
       "      <td>1</td>\n",
       "    </tr>\n",
       "    <tr>\n",
       "      <th>9</th>\n",
       "      <td>TECH9322</td>\n",
       "      <td>45</td>\n",
       "      <td>Technology</td>\n",
       "      <td>PG</td>\n",
       "      <td>Referral</td>\n",
       "      <td>3</td>\n",
       "      <td>3.0</td>\n",
       "      <td>9</td>\n",
       "      <td>0</td>\n",
       "      <td>38177.1</td>\n",
       "      <td>f</td>\n",
       "      <td>2004-03-19</td>\n",
       "      <td>0.07</td>\n",
       "      <td>0</td>\n",
       "    </tr>\n",
       "  </tbody>\n",
       "</table>\n",
       "</div>"
      ],
      "text/plain": [
       "     emp_id  age  department education    recruitment_type  job_level  rating  \\\n",
       "0    HR8270   28          HR        PG            Referral          5     2.0   \n",
       "1  TECH1860   50  Technology        PG  Recruitment Agency          3     5.0   \n",
       "2  TECH6390   43  Technology        UG            Referral          4     1.0   \n",
       "3   SAL6191   44       Sales        PG           On-Campus          2     3.0   \n",
       "4    HR6734   33          HR        UG  Recruitment Agency          2     1.0   \n",
       "5   PUR7265   40  Purchasing        UG             Walk-in          3     3.0   \n",
       "6   PUR1466   26  Purchasing        UG            Referral          5     5.0   \n",
       "7  TECH5426   25  Technology        UG  Recruitment Agency          1     1.0   \n",
       "8    HR6578   35          HR        PG            Referral          3     4.0   \n",
       "9  TECH9322   45  Technology        PG            Referral          3     3.0   \n",
       "\n",
       "   awards  certifications   salary  gender  entry_date  last_raise  satisfied  \n",
       "0       1               0  78075.0       m  2019-02-01         NaN          1  \n",
       "1       2               1  38177.1    Male  2017-01-17         NaN          0  \n",
       "2       2               0  59143.5       f  2012-08-27         NaN          1  \n",
       "3       0               0  26824.5       f  2017-07-25         NaN          1  \n",
       "4       5               0  26824.5       m  2019-05-17         NaN          1  \n",
       "5       7               1  38177.1       m  2004-04-22        0.02          1  \n",
       "6       2               0  78075.0       m  2019-12-10         NaN          1  \n",
       "7       4               0  21668.4  Female  2017-03-18         NaN          0  \n",
       "8       0               0  38177.1       f  2015-04-02         NaN          1  \n",
       "9       9               0  38177.1       f  2004-03-19        0.07          0  "
      ]
     },
     "execution_count": 157,
     "metadata": {},
     "output_type": "execute_result"
    }
   ],
   "source": [
    "# Ihre Lösung\n",
    "df[\"salary\"] = df[\"salary\"]*0.9\n",
    "df.head(10)"
   ]
  },
  {
   "cell_type": "markdown",
   "metadata": {},
   "source": [
    "Die Spalte `entry_date` enthält Informationen über das Einstellungsdatum, die Daten sind jedoch nicht vom Typ Datetime. Dies ist für Datums-Berechnungen sehr ungünstig, wandeln Sie den Datentypen deshalb entsprechend um."
   ]
  },
  {
   "cell_type": "code",
   "execution_count": 158,
   "metadata": {
    "ExecuteTime": {
     "end_time": "2022-02-23T10:22:46.544708Z",
     "start_time": "2022-02-23T10:22:46.531715Z"
    }
   },
   "outputs": [
    {
     "data": {
      "text/html": [
       "<div>\n",
       "<style scoped>\n",
       "    .dataframe tbody tr th:only-of-type {\n",
       "        vertical-align: middle;\n",
       "    }\n",
       "\n",
       "    .dataframe tbody tr th {\n",
       "        vertical-align: top;\n",
       "    }\n",
       "\n",
       "    .dataframe thead th {\n",
       "        text-align: right;\n",
       "    }\n",
       "</style>\n",
       "<table border=\"1\" class=\"dataframe\">\n",
       "  <thead>\n",
       "    <tr style=\"text-align: right;\">\n",
       "      <th></th>\n",
       "      <th>emp_id</th>\n",
       "      <th>age</th>\n",
       "      <th>department</th>\n",
       "      <th>education</th>\n",
       "      <th>recruitment_type</th>\n",
       "      <th>job_level</th>\n",
       "      <th>rating</th>\n",
       "      <th>awards</th>\n",
       "      <th>certifications</th>\n",
       "      <th>salary</th>\n",
       "      <th>gender</th>\n",
       "      <th>entry_date</th>\n",
       "      <th>last_raise</th>\n",
       "      <th>satisfied</th>\n",
       "    </tr>\n",
       "  </thead>\n",
       "  <tbody>\n",
       "    <tr>\n",
       "      <th>0</th>\n",
       "      <td>HR8270</td>\n",
       "      <td>28</td>\n",
       "      <td>HR</td>\n",
       "      <td>PG</td>\n",
       "      <td>Referral</td>\n",
       "      <td>5</td>\n",
       "      <td>2.0</td>\n",
       "      <td>1</td>\n",
       "      <td>0</td>\n",
       "      <td>78075.0</td>\n",
       "      <td>m</td>\n",
       "      <td>2019-02-01</td>\n",
       "      <td>NaN</td>\n",
       "      <td>1</td>\n",
       "    </tr>\n",
       "    <tr>\n",
       "      <th>1</th>\n",
       "      <td>TECH1860</td>\n",
       "      <td>50</td>\n",
       "      <td>Technology</td>\n",
       "      <td>PG</td>\n",
       "      <td>Recruitment Agency</td>\n",
       "      <td>3</td>\n",
       "      <td>5.0</td>\n",
       "      <td>2</td>\n",
       "      <td>1</td>\n",
       "      <td>38177.1</td>\n",
       "      <td>Male</td>\n",
       "      <td>2017-01-17</td>\n",
       "      <td>NaN</td>\n",
       "      <td>0</td>\n",
       "    </tr>\n",
       "    <tr>\n",
       "      <th>2</th>\n",
       "      <td>TECH6390</td>\n",
       "      <td>43</td>\n",
       "      <td>Technology</td>\n",
       "      <td>UG</td>\n",
       "      <td>Referral</td>\n",
       "      <td>4</td>\n",
       "      <td>1.0</td>\n",
       "      <td>2</td>\n",
       "      <td>0</td>\n",
       "      <td>59143.5</td>\n",
       "      <td>f</td>\n",
       "      <td>2012-08-27</td>\n",
       "      <td>NaN</td>\n",
       "      <td>1</td>\n",
       "    </tr>\n",
       "    <tr>\n",
       "      <th>3</th>\n",
       "      <td>SAL6191</td>\n",
       "      <td>44</td>\n",
       "      <td>Sales</td>\n",
       "      <td>PG</td>\n",
       "      <td>On-Campus</td>\n",
       "      <td>2</td>\n",
       "      <td>3.0</td>\n",
       "      <td>0</td>\n",
       "      <td>0</td>\n",
       "      <td>26824.5</td>\n",
       "      <td>f</td>\n",
       "      <td>2017-07-25</td>\n",
       "      <td>NaN</td>\n",
       "      <td>1</td>\n",
       "    </tr>\n",
       "    <tr>\n",
       "      <th>4</th>\n",
       "      <td>HR6734</td>\n",
       "      <td>33</td>\n",
       "      <td>HR</td>\n",
       "      <td>UG</td>\n",
       "      <td>Recruitment Agency</td>\n",
       "      <td>2</td>\n",
       "      <td>1.0</td>\n",
       "      <td>5</td>\n",
       "      <td>0</td>\n",
       "      <td>26824.5</td>\n",
       "      <td>m</td>\n",
       "      <td>2019-05-17</td>\n",
       "      <td>NaN</td>\n",
       "      <td>1</td>\n",
       "    </tr>\n",
       "    <tr>\n",
       "      <th>5</th>\n",
       "      <td>PUR7265</td>\n",
       "      <td>40</td>\n",
       "      <td>Purchasing</td>\n",
       "      <td>UG</td>\n",
       "      <td>Walk-in</td>\n",
       "      <td>3</td>\n",
       "      <td>3.0</td>\n",
       "      <td>7</td>\n",
       "      <td>1</td>\n",
       "      <td>38177.1</td>\n",
       "      <td>m</td>\n",
       "      <td>2004-04-22</td>\n",
       "      <td>0.02</td>\n",
       "      <td>1</td>\n",
       "    </tr>\n",
       "    <tr>\n",
       "      <th>6</th>\n",
       "      <td>PUR1466</td>\n",
       "      <td>26</td>\n",
       "      <td>Purchasing</td>\n",
       "      <td>UG</td>\n",
       "      <td>Referral</td>\n",
       "      <td>5</td>\n",
       "      <td>5.0</td>\n",
       "      <td>2</td>\n",
       "      <td>0</td>\n",
       "      <td>78075.0</td>\n",
       "      <td>m</td>\n",
       "      <td>2019-12-10</td>\n",
       "      <td>NaN</td>\n",
       "      <td>1</td>\n",
       "    </tr>\n",
       "    <tr>\n",
       "      <th>7</th>\n",
       "      <td>TECH5426</td>\n",
       "      <td>25</td>\n",
       "      <td>Technology</td>\n",
       "      <td>UG</td>\n",
       "      <td>Recruitment Agency</td>\n",
       "      <td>1</td>\n",
       "      <td>1.0</td>\n",
       "      <td>4</td>\n",
       "      <td>0</td>\n",
       "      <td>21668.4</td>\n",
       "      <td>Female</td>\n",
       "      <td>2017-03-18</td>\n",
       "      <td>NaN</td>\n",
       "      <td>0</td>\n",
       "    </tr>\n",
       "    <tr>\n",
       "      <th>8</th>\n",
       "      <td>HR6578</td>\n",
       "      <td>35</td>\n",
       "      <td>HR</td>\n",
       "      <td>PG</td>\n",
       "      <td>Referral</td>\n",
       "      <td>3</td>\n",
       "      <td>4.0</td>\n",
       "      <td>0</td>\n",
       "      <td>0</td>\n",
       "      <td>38177.1</td>\n",
       "      <td>f</td>\n",
       "      <td>2015-04-02</td>\n",
       "      <td>NaN</td>\n",
       "      <td>1</td>\n",
       "    </tr>\n",
       "    <tr>\n",
       "      <th>9</th>\n",
       "      <td>TECH9322</td>\n",
       "      <td>45</td>\n",
       "      <td>Technology</td>\n",
       "      <td>PG</td>\n",
       "      <td>Referral</td>\n",
       "      <td>3</td>\n",
       "      <td>3.0</td>\n",
       "      <td>9</td>\n",
       "      <td>0</td>\n",
       "      <td>38177.1</td>\n",
       "      <td>f</td>\n",
       "      <td>2004-03-19</td>\n",
       "      <td>0.07</td>\n",
       "      <td>0</td>\n",
       "    </tr>\n",
       "  </tbody>\n",
       "</table>\n",
       "</div>"
      ],
      "text/plain": [
       "     emp_id  age  department education    recruitment_type  job_level  rating  \\\n",
       "0    HR8270   28          HR        PG            Referral          5     2.0   \n",
       "1  TECH1860   50  Technology        PG  Recruitment Agency          3     5.0   \n",
       "2  TECH6390   43  Technology        UG            Referral          4     1.0   \n",
       "3   SAL6191   44       Sales        PG           On-Campus          2     3.0   \n",
       "4    HR6734   33          HR        UG  Recruitment Agency          2     1.0   \n",
       "5   PUR7265   40  Purchasing        UG             Walk-in          3     3.0   \n",
       "6   PUR1466   26  Purchasing        UG            Referral          5     5.0   \n",
       "7  TECH5426   25  Technology        UG  Recruitment Agency          1     1.0   \n",
       "8    HR6578   35          HR        PG            Referral          3     4.0   \n",
       "9  TECH9322   45  Technology        PG            Referral          3     3.0   \n",
       "\n",
       "   awards  certifications   salary  gender entry_date  last_raise  satisfied  \n",
       "0       1               0  78075.0       m 2019-02-01         NaN          1  \n",
       "1       2               1  38177.1    Male 2017-01-17         NaN          0  \n",
       "2       2               0  59143.5       f 2012-08-27         NaN          1  \n",
       "3       0               0  26824.5       f 2017-07-25         NaN          1  \n",
       "4       5               0  26824.5       m 2019-05-17         NaN          1  \n",
       "5       7               1  38177.1       m 2004-04-22        0.02          1  \n",
       "6       2               0  78075.0       m 2019-12-10         NaN          1  \n",
       "7       4               0  21668.4  Female 2017-03-18         NaN          0  \n",
       "8       0               0  38177.1       f 2015-04-02         NaN          1  \n",
       "9       9               0  38177.1       f 2004-03-19        0.07          0  "
      ]
     },
     "execution_count": 158,
     "metadata": {},
     "output_type": "execute_result"
    }
   ],
   "source": [
    "# Ihre Lösung\n",
    "import datetime\n",
    "df['entry_date']=pd.to_datetime(df['entry_date'], format='%Y-%m-%d')\n",
    "df.head(10)"
   ]
  },
  {
   "cell_type": "code",
   "execution_count": 159,
   "metadata": {},
   "outputs": [
    {
     "data": {
      "text/plain": [
       "emp_id                      object\n",
       "age                          int64\n",
       "department                  object\n",
       "education                   object\n",
       "recruitment_type            object\n",
       "job_level                    int64\n",
       "rating                     float64\n",
       "awards                       int64\n",
       "certifications               int64\n",
       "salary                     float64\n",
       "gender                      object\n",
       "entry_date          datetime64[ns]\n",
       "last_raise                 float64\n",
       "satisfied                    int64\n",
       "dtype: object"
      ]
     },
     "execution_count": 159,
     "metadata": {},
     "output_type": "execute_result"
    }
   ],
   "source": [
    "#Überprüfung ob korrekt konvertiert wurde\n",
    "df.dtypes"
   ]
  },
  {
   "cell_type": "markdown",
   "metadata": {},
   "source": [
    "In der Spalte `gender` sind die Werte nicht einheitlich kodiert (`m`/`Male` und `f`/`Female`). Vereinheitlichen Sie diese Spalte, so dass `m` zu `Male` wird und `f` zu `Female`. Dazu können Sie untenstehendes Dictionary `gender_recoding` verwenden."
   ]
  },
  {
   "cell_type": "code",
   "execution_count": 160,
   "metadata": {
    "ExecuteTime": {
     "end_time": "2022-02-23T10:22:46.560709Z",
     "start_time": "2022-02-23T10:22:46.547710Z"
    }
   },
   "outputs": [
    {
     "data": {
      "text/html": [
       "<div>\n",
       "<style scoped>\n",
       "    .dataframe tbody tr th:only-of-type {\n",
       "        vertical-align: middle;\n",
       "    }\n",
       "\n",
       "    .dataframe tbody tr th {\n",
       "        vertical-align: top;\n",
       "    }\n",
       "\n",
       "    .dataframe thead th {\n",
       "        text-align: right;\n",
       "    }\n",
       "</style>\n",
       "<table border=\"1\" class=\"dataframe\">\n",
       "  <thead>\n",
       "    <tr style=\"text-align: right;\">\n",
       "      <th></th>\n",
       "      <th>emp_id</th>\n",
       "      <th>age</th>\n",
       "      <th>department</th>\n",
       "      <th>education</th>\n",
       "      <th>recruitment_type</th>\n",
       "      <th>job_level</th>\n",
       "      <th>rating</th>\n",
       "      <th>awards</th>\n",
       "      <th>certifications</th>\n",
       "      <th>salary</th>\n",
       "      <th>gender</th>\n",
       "      <th>entry_date</th>\n",
       "      <th>last_raise</th>\n",
       "      <th>satisfied</th>\n",
       "    </tr>\n",
       "  </thead>\n",
       "  <tbody>\n",
       "    <tr>\n",
       "      <th>0</th>\n",
       "      <td>HR8270</td>\n",
       "      <td>28</td>\n",
       "      <td>HR</td>\n",
       "      <td>PG</td>\n",
       "      <td>Referral</td>\n",
       "      <td>5</td>\n",
       "      <td>2.0</td>\n",
       "      <td>1</td>\n",
       "      <td>0</td>\n",
       "      <td>78075.0</td>\n",
       "      <td>Male</td>\n",
       "      <td>2019-02-01</td>\n",
       "      <td>NaN</td>\n",
       "      <td>1</td>\n",
       "    </tr>\n",
       "    <tr>\n",
       "      <th>1</th>\n",
       "      <td>TECH1860</td>\n",
       "      <td>50</td>\n",
       "      <td>Technology</td>\n",
       "      <td>PG</td>\n",
       "      <td>Recruitment Agency</td>\n",
       "      <td>3</td>\n",
       "      <td>5.0</td>\n",
       "      <td>2</td>\n",
       "      <td>1</td>\n",
       "      <td>38177.1</td>\n",
       "      <td>Male</td>\n",
       "      <td>2017-01-17</td>\n",
       "      <td>NaN</td>\n",
       "      <td>0</td>\n",
       "    </tr>\n",
       "    <tr>\n",
       "      <th>2</th>\n",
       "      <td>TECH6390</td>\n",
       "      <td>43</td>\n",
       "      <td>Technology</td>\n",
       "      <td>UG</td>\n",
       "      <td>Referral</td>\n",
       "      <td>4</td>\n",
       "      <td>1.0</td>\n",
       "      <td>2</td>\n",
       "      <td>0</td>\n",
       "      <td>59143.5</td>\n",
       "      <td>Female</td>\n",
       "      <td>2012-08-27</td>\n",
       "      <td>NaN</td>\n",
       "      <td>1</td>\n",
       "    </tr>\n",
       "    <tr>\n",
       "      <th>3</th>\n",
       "      <td>SAL6191</td>\n",
       "      <td>44</td>\n",
       "      <td>Sales</td>\n",
       "      <td>PG</td>\n",
       "      <td>On-Campus</td>\n",
       "      <td>2</td>\n",
       "      <td>3.0</td>\n",
       "      <td>0</td>\n",
       "      <td>0</td>\n",
       "      <td>26824.5</td>\n",
       "      <td>Female</td>\n",
       "      <td>2017-07-25</td>\n",
       "      <td>NaN</td>\n",
       "      <td>1</td>\n",
       "    </tr>\n",
       "    <tr>\n",
       "      <th>4</th>\n",
       "      <td>HR6734</td>\n",
       "      <td>33</td>\n",
       "      <td>HR</td>\n",
       "      <td>UG</td>\n",
       "      <td>Recruitment Agency</td>\n",
       "      <td>2</td>\n",
       "      <td>1.0</td>\n",
       "      <td>5</td>\n",
       "      <td>0</td>\n",
       "      <td>26824.5</td>\n",
       "      <td>Male</td>\n",
       "      <td>2019-05-17</td>\n",
       "      <td>NaN</td>\n",
       "      <td>1</td>\n",
       "    </tr>\n",
       "    <tr>\n",
       "      <th>5</th>\n",
       "      <td>PUR7265</td>\n",
       "      <td>40</td>\n",
       "      <td>Purchasing</td>\n",
       "      <td>UG</td>\n",
       "      <td>Walk-in</td>\n",
       "      <td>3</td>\n",
       "      <td>3.0</td>\n",
       "      <td>7</td>\n",
       "      <td>1</td>\n",
       "      <td>38177.1</td>\n",
       "      <td>Male</td>\n",
       "      <td>2004-04-22</td>\n",
       "      <td>0.02</td>\n",
       "      <td>1</td>\n",
       "    </tr>\n",
       "    <tr>\n",
       "      <th>6</th>\n",
       "      <td>PUR1466</td>\n",
       "      <td>26</td>\n",
       "      <td>Purchasing</td>\n",
       "      <td>UG</td>\n",
       "      <td>Referral</td>\n",
       "      <td>5</td>\n",
       "      <td>5.0</td>\n",
       "      <td>2</td>\n",
       "      <td>0</td>\n",
       "      <td>78075.0</td>\n",
       "      <td>Male</td>\n",
       "      <td>2019-12-10</td>\n",
       "      <td>NaN</td>\n",
       "      <td>1</td>\n",
       "    </tr>\n",
       "    <tr>\n",
       "      <th>7</th>\n",
       "      <td>TECH5426</td>\n",
       "      <td>25</td>\n",
       "      <td>Technology</td>\n",
       "      <td>UG</td>\n",
       "      <td>Recruitment Agency</td>\n",
       "      <td>1</td>\n",
       "      <td>1.0</td>\n",
       "      <td>4</td>\n",
       "      <td>0</td>\n",
       "      <td>21668.4</td>\n",
       "      <td>Female</td>\n",
       "      <td>2017-03-18</td>\n",
       "      <td>NaN</td>\n",
       "      <td>0</td>\n",
       "    </tr>\n",
       "    <tr>\n",
       "      <th>8</th>\n",
       "      <td>HR6578</td>\n",
       "      <td>35</td>\n",
       "      <td>HR</td>\n",
       "      <td>PG</td>\n",
       "      <td>Referral</td>\n",
       "      <td>3</td>\n",
       "      <td>4.0</td>\n",
       "      <td>0</td>\n",
       "      <td>0</td>\n",
       "      <td>38177.1</td>\n",
       "      <td>Female</td>\n",
       "      <td>2015-04-02</td>\n",
       "      <td>NaN</td>\n",
       "      <td>1</td>\n",
       "    </tr>\n",
       "    <tr>\n",
       "      <th>9</th>\n",
       "      <td>TECH9322</td>\n",
       "      <td>45</td>\n",
       "      <td>Technology</td>\n",
       "      <td>PG</td>\n",
       "      <td>Referral</td>\n",
       "      <td>3</td>\n",
       "      <td>3.0</td>\n",
       "      <td>9</td>\n",
       "      <td>0</td>\n",
       "      <td>38177.1</td>\n",
       "      <td>Female</td>\n",
       "      <td>2004-03-19</td>\n",
       "      <td>0.07</td>\n",
       "      <td>0</td>\n",
       "    </tr>\n",
       "  </tbody>\n",
       "</table>\n",
       "</div>"
      ],
      "text/plain": [
       "     emp_id  age  department education    recruitment_type  job_level  rating  \\\n",
       "0    HR8270   28          HR        PG            Referral          5     2.0   \n",
       "1  TECH1860   50  Technology        PG  Recruitment Agency          3     5.0   \n",
       "2  TECH6390   43  Technology        UG            Referral          4     1.0   \n",
       "3   SAL6191   44       Sales        PG           On-Campus          2     3.0   \n",
       "4    HR6734   33          HR        UG  Recruitment Agency          2     1.0   \n",
       "5   PUR7265   40  Purchasing        UG             Walk-in          3     3.0   \n",
       "6   PUR1466   26  Purchasing        UG            Referral          5     5.0   \n",
       "7  TECH5426   25  Technology        UG  Recruitment Agency          1     1.0   \n",
       "8    HR6578   35          HR        PG            Referral          3     4.0   \n",
       "9  TECH9322   45  Technology        PG            Referral          3     3.0   \n",
       "\n",
       "   awards  certifications   salary  gender entry_date  last_raise  satisfied  \n",
       "0       1               0  78075.0    Male 2019-02-01         NaN          1  \n",
       "1       2               1  38177.1    Male 2017-01-17         NaN          0  \n",
       "2       2               0  59143.5  Female 2012-08-27         NaN          1  \n",
       "3       0               0  26824.5  Female 2017-07-25         NaN          1  \n",
       "4       5               0  26824.5    Male 2019-05-17         NaN          1  \n",
       "5       7               1  38177.1    Male 2004-04-22        0.02          1  \n",
       "6       2               0  78075.0    Male 2019-12-10         NaN          1  \n",
       "7       4               0  21668.4  Female 2017-03-18         NaN          0  \n",
       "8       0               0  38177.1  Female 2015-04-02         NaN          1  \n",
       "9       9               0  38177.1  Female 2004-03-19        0.07          0  "
      ]
     },
     "execution_count": 160,
     "metadata": {},
     "output_type": "execute_result"
    }
   ],
   "source": [
    "gender_recoding = {\n",
    "    \"f\": \"Female\",\n",
    "    \"m\": \"Male\"\n",
    "}\n",
    "df[\"gender\"]=df[\"gender\"].replace(gender_recoding)\n",
    "\n",
    "df.head(10)\n"
   ]
  },
  {
   "cell_type": "markdown",
   "metadata": {},
   "source": [
    "In der Spalte `education` ist der Ausbildungsgrad der Angestellten in `UG`/`PG` angegeben:"
   ]
  },
  {
   "cell_type": "code",
   "execution_count": 161,
   "metadata": {
    "ExecuteTime": {
     "end_time": "2022-02-23T10:26:58.432868Z",
     "start_time": "2022-02-23T10:26:58.417195Z"
    }
   },
   "outputs": [
    {
     "data": {
      "text/plain": [
       "array(['PG', 'UG'], dtype=object)"
      ]
     },
     "execution_count": 161,
     "metadata": {},
     "output_type": "execute_result"
    }
   ],
   "source": [
    "df[\"education\"].unique()"
   ]
  },
  {
   "cell_type": "markdown",
   "metadata": {},
   "source": [
    "Dies sind in Deutschland keine gebräuchlichen Abkürzungen, weshalb die Information u.U. nicht verständlich ist. Transformieren Sie die Spalte, so dass die Abkürzungen ausgeschrieben und somit verständlicher sind. Aktualisieren Sie außerdem die Datei `metadata.txt` und fügen Sie eine kurze Erklärung zu den beiden Ausprägungen hinzu."
   ]
  },
  {
   "cell_type": "code",
   "execution_count": 162,
   "metadata": {
    "ExecuteTime": {
     "end_time": "2022-02-23T10:22:46.608733Z",
     "start_time": "2022-02-23T10:22:46.594713Z"
    }
   },
   "outputs": [
    {
     "data": {
      "text/html": [
       "<div>\n",
       "<style scoped>\n",
       "    .dataframe tbody tr th:only-of-type {\n",
       "        vertical-align: middle;\n",
       "    }\n",
       "\n",
       "    .dataframe tbody tr th {\n",
       "        vertical-align: top;\n",
       "    }\n",
       "\n",
       "    .dataframe thead th {\n",
       "        text-align: right;\n",
       "    }\n",
       "</style>\n",
       "<table border=\"1\" class=\"dataframe\">\n",
       "  <thead>\n",
       "    <tr style=\"text-align: right;\">\n",
       "      <th></th>\n",
       "      <th>emp_id</th>\n",
       "      <th>age</th>\n",
       "      <th>department</th>\n",
       "      <th>education</th>\n",
       "      <th>recruitment_type</th>\n",
       "      <th>job_level</th>\n",
       "      <th>rating</th>\n",
       "      <th>awards</th>\n",
       "      <th>certifications</th>\n",
       "      <th>salary</th>\n",
       "      <th>gender</th>\n",
       "      <th>entry_date</th>\n",
       "      <th>last_raise</th>\n",
       "      <th>satisfied</th>\n",
       "    </tr>\n",
       "  </thead>\n",
       "  <tbody>\n",
       "    <tr>\n",
       "      <th>0</th>\n",
       "      <td>HR8270</td>\n",
       "      <td>28</td>\n",
       "      <td>HR</td>\n",
       "      <td>Postgraduate</td>\n",
       "      <td>Referral</td>\n",
       "      <td>5</td>\n",
       "      <td>2.0</td>\n",
       "      <td>1</td>\n",
       "      <td>0</td>\n",
       "      <td>78075.0</td>\n",
       "      <td>Male</td>\n",
       "      <td>2019-02-01</td>\n",
       "      <td>NaN</td>\n",
       "      <td>1</td>\n",
       "    </tr>\n",
       "    <tr>\n",
       "      <th>1</th>\n",
       "      <td>TECH1860</td>\n",
       "      <td>50</td>\n",
       "      <td>Technology</td>\n",
       "      <td>Postgraduate</td>\n",
       "      <td>Recruitment Agency</td>\n",
       "      <td>3</td>\n",
       "      <td>5.0</td>\n",
       "      <td>2</td>\n",
       "      <td>1</td>\n",
       "      <td>38177.1</td>\n",
       "      <td>Male</td>\n",
       "      <td>2017-01-17</td>\n",
       "      <td>NaN</td>\n",
       "      <td>0</td>\n",
       "    </tr>\n",
       "    <tr>\n",
       "      <th>2</th>\n",
       "      <td>TECH6390</td>\n",
       "      <td>43</td>\n",
       "      <td>Technology</td>\n",
       "      <td>Undergraduate</td>\n",
       "      <td>Referral</td>\n",
       "      <td>4</td>\n",
       "      <td>1.0</td>\n",
       "      <td>2</td>\n",
       "      <td>0</td>\n",
       "      <td>59143.5</td>\n",
       "      <td>Female</td>\n",
       "      <td>2012-08-27</td>\n",
       "      <td>NaN</td>\n",
       "      <td>1</td>\n",
       "    </tr>\n",
       "    <tr>\n",
       "      <th>3</th>\n",
       "      <td>SAL6191</td>\n",
       "      <td>44</td>\n",
       "      <td>Sales</td>\n",
       "      <td>Postgraduate</td>\n",
       "      <td>On-Campus</td>\n",
       "      <td>2</td>\n",
       "      <td>3.0</td>\n",
       "      <td>0</td>\n",
       "      <td>0</td>\n",
       "      <td>26824.5</td>\n",
       "      <td>Female</td>\n",
       "      <td>2017-07-25</td>\n",
       "      <td>NaN</td>\n",
       "      <td>1</td>\n",
       "    </tr>\n",
       "    <tr>\n",
       "      <th>4</th>\n",
       "      <td>HR6734</td>\n",
       "      <td>33</td>\n",
       "      <td>HR</td>\n",
       "      <td>Undergraduate</td>\n",
       "      <td>Recruitment Agency</td>\n",
       "      <td>2</td>\n",
       "      <td>1.0</td>\n",
       "      <td>5</td>\n",
       "      <td>0</td>\n",
       "      <td>26824.5</td>\n",
       "      <td>Male</td>\n",
       "      <td>2019-05-17</td>\n",
       "      <td>NaN</td>\n",
       "      <td>1</td>\n",
       "    </tr>\n",
       "    <tr>\n",
       "      <th>5</th>\n",
       "      <td>PUR7265</td>\n",
       "      <td>40</td>\n",
       "      <td>Purchasing</td>\n",
       "      <td>Undergraduate</td>\n",
       "      <td>Walk-in</td>\n",
       "      <td>3</td>\n",
       "      <td>3.0</td>\n",
       "      <td>7</td>\n",
       "      <td>1</td>\n",
       "      <td>38177.1</td>\n",
       "      <td>Male</td>\n",
       "      <td>2004-04-22</td>\n",
       "      <td>0.02</td>\n",
       "      <td>1</td>\n",
       "    </tr>\n",
       "    <tr>\n",
       "      <th>6</th>\n",
       "      <td>PUR1466</td>\n",
       "      <td>26</td>\n",
       "      <td>Purchasing</td>\n",
       "      <td>Undergraduate</td>\n",
       "      <td>Referral</td>\n",
       "      <td>5</td>\n",
       "      <td>5.0</td>\n",
       "      <td>2</td>\n",
       "      <td>0</td>\n",
       "      <td>78075.0</td>\n",
       "      <td>Male</td>\n",
       "      <td>2019-12-10</td>\n",
       "      <td>NaN</td>\n",
       "      <td>1</td>\n",
       "    </tr>\n",
       "    <tr>\n",
       "      <th>7</th>\n",
       "      <td>TECH5426</td>\n",
       "      <td>25</td>\n",
       "      <td>Technology</td>\n",
       "      <td>Undergraduate</td>\n",
       "      <td>Recruitment Agency</td>\n",
       "      <td>1</td>\n",
       "      <td>1.0</td>\n",
       "      <td>4</td>\n",
       "      <td>0</td>\n",
       "      <td>21668.4</td>\n",
       "      <td>Female</td>\n",
       "      <td>2017-03-18</td>\n",
       "      <td>NaN</td>\n",
       "      <td>0</td>\n",
       "    </tr>\n",
       "    <tr>\n",
       "      <th>8</th>\n",
       "      <td>HR6578</td>\n",
       "      <td>35</td>\n",
       "      <td>HR</td>\n",
       "      <td>Postgraduate</td>\n",
       "      <td>Referral</td>\n",
       "      <td>3</td>\n",
       "      <td>4.0</td>\n",
       "      <td>0</td>\n",
       "      <td>0</td>\n",
       "      <td>38177.1</td>\n",
       "      <td>Female</td>\n",
       "      <td>2015-04-02</td>\n",
       "      <td>NaN</td>\n",
       "      <td>1</td>\n",
       "    </tr>\n",
       "    <tr>\n",
       "      <th>9</th>\n",
       "      <td>TECH9322</td>\n",
       "      <td>45</td>\n",
       "      <td>Technology</td>\n",
       "      <td>Postgraduate</td>\n",
       "      <td>Referral</td>\n",
       "      <td>3</td>\n",
       "      <td>3.0</td>\n",
       "      <td>9</td>\n",
       "      <td>0</td>\n",
       "      <td>38177.1</td>\n",
       "      <td>Female</td>\n",
       "      <td>2004-03-19</td>\n",
       "      <td>0.07</td>\n",
       "      <td>0</td>\n",
       "    </tr>\n",
       "  </tbody>\n",
       "</table>\n",
       "</div>"
      ],
      "text/plain": [
       "     emp_id  age  department      education    recruitment_type  job_level  \\\n",
       "0    HR8270   28          HR   Postgraduate            Referral          5   \n",
       "1  TECH1860   50  Technology   Postgraduate  Recruitment Agency          3   \n",
       "2  TECH6390   43  Technology  Undergraduate            Referral          4   \n",
       "3   SAL6191   44       Sales   Postgraduate           On-Campus          2   \n",
       "4    HR6734   33          HR  Undergraduate  Recruitment Agency          2   \n",
       "5   PUR7265   40  Purchasing  Undergraduate             Walk-in          3   \n",
       "6   PUR1466   26  Purchasing  Undergraduate            Referral          5   \n",
       "7  TECH5426   25  Technology  Undergraduate  Recruitment Agency          1   \n",
       "8    HR6578   35          HR   Postgraduate            Referral          3   \n",
       "9  TECH9322   45  Technology   Postgraduate            Referral          3   \n",
       "\n",
       "   rating  awards  certifications   salary  gender entry_date  last_raise  \\\n",
       "0     2.0       1               0  78075.0    Male 2019-02-01         NaN   \n",
       "1     5.0       2               1  38177.1    Male 2017-01-17         NaN   \n",
       "2     1.0       2               0  59143.5  Female 2012-08-27         NaN   \n",
       "3     3.0       0               0  26824.5  Female 2017-07-25         NaN   \n",
       "4     1.0       5               0  26824.5    Male 2019-05-17         NaN   \n",
       "5     3.0       7               1  38177.1    Male 2004-04-22        0.02   \n",
       "6     5.0       2               0  78075.0    Male 2019-12-10         NaN   \n",
       "7     1.0       4               0  21668.4  Female 2017-03-18         NaN   \n",
       "8     4.0       0               0  38177.1  Female 2015-04-02         NaN   \n",
       "9     3.0       9               0  38177.1  Female 2004-03-19        0.07   \n",
       "\n",
       "   satisfied  \n",
       "0          1  \n",
       "1          0  \n",
       "2          1  \n",
       "3          1  \n",
       "4          1  \n",
       "5          1  \n",
       "6          1  \n",
       "7          0  \n",
       "8          1  \n",
       "9          0  "
      ]
     },
     "execution_count": 162,
     "metadata": {},
     "output_type": "execute_result"
    }
   ],
   "source": [
    "# Ihre Lösung\n",
    "education_recoding = {\n",
    "    \"UG\": \"Undergraduate\",\n",
    "    \"PG\": \"Postgraduate\"\n",
    "}\n",
    "df[\"education\"]=df[\"education\"].replace(education_recoding)\n",
    "df.head(10)"
   ]
  },
  {
   "cell_type": "markdown",
   "metadata": {},
   "source": [
    "## Plausibilitätschecks\n",
    "Es ist sinnvoll, einige Prüfungen bzgl. der Plausibilität der Daten vorzunhemen.\n",
    "\n",
    "Nehmen Sie an, einer Ihrer Plausibilitätschecks schlägt fehlt. Was sollten Sie dann tun?"
   ]
  },
  {
   "cell_type": "raw",
   "metadata": {},
   "source": [
    "Ihre Überlegung:\n",
    "Zuerst sollte festgestellt werden, wo genau der Fehler aufgetreten ist und warum der Test nicht bestanden wurde. Danach sollten entweder Daten oder Check angepasst werden um zukünftige Fehler\n",
    "zu vermeiden. Nach Anpassung sollte der Check noch einmal zur Validierung durchgeführt werden. Wenn die Validierung bestanden ist, sollten Änderungen sowohl in Daten und auch Check Dokumentiert\n",
    "werden um zukünftige Missverständnisse zu vermeiden."
   ]
  },
  {
   "cell_type": "markdown",
   "metadata": {},
   "source": [
    "Wir würden davon ausgehen, dass Personen frühestens ab 16 Jahren fest in einer Firma angestellt werden. Prüfen Sie deshalb, ob alle Personen mindestens 16 Jahre alt waren, als Sie bei der Firma begonnen haben (siehe `entry_date`). Gehen Sie dafür davon aus, dass der Datensatz am 01.01.2021 erstellt wurde (siehe Variable `created`)."
   ]
  },
  {
   "cell_type": "code",
   "execution_count": 163,
   "metadata": {
    "ExecuteTime": {
     "end_time": "2022-02-23T10:22:46.624711Z",
     "start_time": "2022-02-23T10:22:46.610711Z"
    }
   },
   "outputs": [],
   "source": [
    "from datetime import date\n",
    "created = date(2021, 1, 1)\n"
   ]
  },
  {
   "cell_type": "code",
   "execution_count": 164,
   "metadata": {
    "ExecuteTime": {
     "end_time": "2022-02-23T10:22:46.656710Z",
     "start_time": "2022-02-23T10:22:46.625711Z"
    }
   },
   "outputs": [
    {
     "name": "stdout",
     "output_type": "stream",
     "text": [
      "Leute die unter 16 oder mit 16 angefangen haben zu Arbeiten:\n",
      "0\n"
     ]
    }
   ],
   "source": [
    "# Ihre Lösung\n",
    "from dateutil import relativedelta\n",
    "i=0\n",
    "peoplenot16=0\n",
    "for dates in df[\"entry_date\"]:\n",
    "    delta = relativedelta.relativedelta(created, dates)\n",
    "    if(df.at[i,\"age\"]-delta.years) <= 16:\n",
    "        peoplenot16=peoplenot16+1\n",
    "    i=i+1\n",
    "\n",
    "print(\"Leute die unter 16 oder mit 16 angefangen haben zu Arbeiten:\")\n",
    "print(peoplenot16)\n",
    "\n"
   ]
  },
  {
   "cell_type": "markdown",
   "metadata": {},
   "source": [
    "Die ID der Angestellten scheint mit ihrer Abteilung zusammenzuhängen. Betrachten wir bspw. den ersten Datensatz:"
   ]
  },
  {
   "cell_type": "code",
   "execution_count": 165,
   "metadata": {
    "ExecuteTime": {
     "end_time": "2022-02-23T10:22:46.672708Z",
     "start_time": "2022-02-23T10:22:46.658710Z"
    }
   },
   "outputs": [
    {
     "data": {
      "text/plain": [
       "emp_id          TECH1860\n",
       "department    Technology\n",
       "Name: 1, dtype: object"
      ]
     },
     "execution_count": 165,
     "metadata": {},
     "output_type": "execute_result"
    }
   ],
   "source": [
    "df.loc[1][[\"emp_id\", \"department\"]]"
   ]
  },
  {
   "cell_type": "markdown",
   "metadata": {
    "ExecuteTime": {
     "end_time": "2022-02-18T14:08:44.802043Z",
     "start_time": "2022-02-18T14:08:44.773231Z"
    }
   },
   "source": [
    "Die ersten Buchstaben beziehen sich auf die Abteilung. Wir gruppieren das Dataframe und schauen uns aus jeder Abteilung die `emp_id` des ersten Datensatzes an."
   ]
  },
  {
   "cell_type": "code",
   "execution_count": 166,
   "metadata": {
    "ExecuteTime": {
     "end_time": "2022-02-23T10:22:46.688710Z",
     "start_time": "2022-02-23T10:22:46.673709Z"
    }
   },
   "outputs": [
    {
     "data": {
      "text/plain": [
       "department\n",
       "HR              HR8270\n",
       "Marketing      MKT2685\n",
       "Purchasing     PUR7265\n",
       "Sales          SAL6191\n",
       "Technology    TECH1860\n",
       "Name: emp_id, dtype: object"
      ]
     },
     "execution_count": 166,
     "metadata": {},
     "output_type": "execute_result"
    }
   ],
   "source": [
    "df.groupby(\"department\").first()[\"emp_id\"]"
   ]
  },
  {
   "cell_type": "markdown",
   "metadata": {},
   "source": [
    "Wir gehen deshalb von folgender Zuordnung aus:"
   ]
  },
  {
   "cell_type": "code",
   "execution_count": 167,
   "metadata": {
    "ExecuteTime": {
     "end_time": "2022-02-23T10:22:46.704709Z",
     "start_time": "2022-02-23T10:22:46.689710Z"
    }
   },
   "outputs": [],
   "source": [
    "id_dept_mapping = {\n",
    "    \"HR\":\"HR\",\n",
    "    \"MKT\":\"Marketing\",\n",
    "    \"PUR\":\"Purchasing\",\n",
    "    \"SAL\":\"Sales\",\n",
    "    \"TECH\":\"Technology\"\n",
    "}"
   ]
  },
  {
   "cell_type": "markdown",
   "metadata": {},
   "source": [
    "Den Buchstaben folgt dann immer eine eindeutige Nummer, der Aufbau ist also \\<dept_id\\>\\<employee_number\\>.\n",
    "\n",
    "Wir wollen prüfen, ob dieses Muster für alle Angestellten konsistent ist. Dafür verwenden wir die Funktion `check_id`. Diese prüft mittels des oben angegebenen Dictionary `id_dept_mapping`, ob `dept_id` und die Abteilung zusammenpassen. Zur Extraktion der `dept_id` sollen Sie einen regulären Ausdruck erstellen. Prüfen Sie anschließend mithilfe der Funktion `check_id`, ob das Muster für alle Angestellten konsistent ist.\n",
    "\n",
    "*Hinweis: Sie können vom obigen Aufbau ausgehen, bei dem `dept_id` immer aus Buchstaben besteht, während `employee_number` immer Zahlen sein sollen.*"
   ]
  },
  {
   "cell_type": "code",
   "execution_count": 168,
   "metadata": {
    "ExecuteTime": {
     "end_time": "2022-02-23T10:22:46.720714Z",
     "start_time": "2022-02-23T10:22:46.706711Z"
    }
   },
   "outputs": [],
   "source": [
    "import re\n",
    "# Ihre Lösung\n",
    "regular_expression = re.compile(\"\\D{2,4}\") # <- fügen Sie hier den entsprechenden regulären Ausdruck ein\n"
   ]
  },
  {
   "cell_type": "code",
   "execution_count": 169,
   "metadata": {
    "ExecuteTime": {
     "end_time": "2022-02-23T10:22:46.735715Z",
     "start_time": "2022-02-23T10:22:46.724712Z"
    }
   },
   "outputs": [],
   "source": [
    "def check_id(emp_id, department):\n",
    "    dept_id = \"\".join(re.findall(regular_expression, emp_id))\n",
    "    return id_dept_mapping.get(dept_id) == department"
   ]
  },
  {
   "cell_type": "code",
   "execution_count": 170,
   "metadata": {
    "ExecuteTime": {
     "end_time": "2022-02-23T10:22:46.767710Z",
     "start_time": "2022-02-23T10:22:46.737712Z"
    }
   },
   "outputs": [
    {
     "name": "stdout",
     "output_type": "stream",
     "text": [
      "0\n"
     ]
    }
   ],
   "source": [
    "# Ist der Check für alle Zeilen des Datensatzes erfolgreich?\n",
    "i=0\n",
    "falseID=0\n",
    "for ids in df[\"emp_id\"]:\n",
    "    if check_id(ids, df.at[i,\"department\"]) == False:\n",
    "        falseID=falseID+1\n",
    "        print(ids)\n",
    "    i=i+1\n",
    "print(falseID)\n",
    "\n"
   ]
  },
  {
   "cell_type": "markdown",
   "metadata": {},
   "source": [
    "Es werden keine falschen IDs ausgegeben, also ist keine ID falsch eingetragen"
   ]
  },
  {
   "cell_type": "markdown",
   "metadata": {},
   "source": [
    "## Fehlende Werte\n",
    "Oft kommt es vor, dass in Daten Werte fehlen. Dies kann unterschiedlichste Gründe haben, z.B. kann ein Wert bewusst weggelassen werden (bpsw. der Titel in einer Anrede) oder Daten können nicht korrekt übertragen werden. Für viele Analysen ist es jedoch wichtig, dass es keine fehlenden Werte gibt.\n",
    "\n",
    "Das Ersetzen von fehlenden Werten wird als *(Missing Value) Imputation* bezeichnet. Hierfür gibt es verschiedene Strategien:\n",
    "- Korrekten Wert ermitteln: Im besten Fall kann der korrekte Wert ermittelt werden, bspw. durch Rücksprache mit (Fach-)Expert\\*innen. Dies ist jedoch nur selten der Fall und häufig mit großem Aufwand verbunden.\n",
    "- Zeilen mit fehlenden Werten löschen: Fehlen wenige, einzelne Werte, kann es u.U. sinnvoll sein, die entsprechenden Zeilen zu löschen. Hierbei muss jedoch darauf geachtet werden, dass nicht zu viele Informationen verloren gehen.\n",
    "- Spalte mit fehlenden Werten löschen: Fehlen in einer Spalte so viele Werte, dass diese keine Aussagekraft mehr hat, kann es sinnvoll sein, die gesamte Spalte zu entfernen.\n",
    "- Neuen Wert einsetzen:\n",
    "    - Neue Kategorie: Bei nominalen Werten kann eine neue Kategorie (z.B. \"Unbekannt\") eingeführt werden.\n",
    "    - Mode Imputation: Die fehlenden Werte werden durch den am häufigst vorkommenden Wert ersetzt.\n",
    "    - Mean Imputation: Die fehlenden Werte werden durch den Mittelwert ersetzt.\n",
    "    - Median Imputation: Die fehlenden Werte werden durch den Median ersetzt.\n",
    "    - Mode, Mean und Median Imputation können auch basierend auf den Werten einer anderen Spalte vorgenommen werden (in unserem Fall z.B. für zufriedene und unzufriedene Angestellte getrennt).\n",
    "    - Imputation mit 0 oder einem anderen konstanten Wert: Die fehlenden Werte werden durch eine 0 oder eine andere, je nach Anwendungsfall passende, Konstante ersetzt.\n",
    "    - Modell-basierte Imputation: Es wird ein Machine-Learning-Modell trainiert, das die fehlenden Werte vorhersagt.\n",
    "    - Zusätzlich zu den genannten Strategien ist es möglich, ein neues Feature zu erstellen, das kennzeichnet, ob eine Imputation vorgenommen wurde (=1) oder nicht (=0)."
   ]
  },
  {
   "cell_type": "markdown",
   "metadata": {},
   "source": [
    "Wir bleiben bei der Spalte `gender`, hier gibt es fehlende Werte."
   ]
  },
  {
   "cell_type": "code",
   "execution_count": 197,
   "metadata": {
    "ExecuteTime": {
     "end_time": "2022-02-23T10:22:46.796381Z",
     "start_time": "2022-02-23T10:22:46.770711Z"
    }
   },
   "outputs": [
    {
     "data": {
      "text/plain": [
       "3"
      ]
     },
     "execution_count": 197,
     "metadata": {},
     "output_type": "execute_result"
    }
   ],
   "source": [
    "df[\"gender\"].isna().sum()"
   ]
  },
  {
   "cell_type": "markdown",
   "metadata": {},
   "source": [
    "Wählen Sie eine geeignete Strategie zur *Imputation*, also der Ersetzung der fehlenden Werte. Begründen Sie Ihre Entscheidung!"
   ]
  },
  {
   "cell_type": "raw",
   "metadata": {},
   "source": [
    "Ihre Begründung:\n",
    "Da es nur 3 fehlende Werte gibt, ist es hier sinnvoll die gesamte Reihe zu streichen der Verlust der Daten beträgt hierbei 0,6% und ist damit tragbar."
   ]
  },
  {
   "cell_type": "code",
   "execution_count": 172,
   "metadata": {
    "ExecuteTime": {
     "end_time": "2022-02-23T10:22:46.812008Z",
     "start_time": "2022-02-23T10:22:46.796381Z"
    }
   },
   "outputs": [
    {
     "name": "stdout",
     "output_type": "stream",
     "text": [
      "263\n",
      "392\n",
      "477\n"
     ]
    },
    {
     "data": {
      "text/plain": [
       "3"
      ]
     },
     "execution_count": 172,
     "metadata": {},
     "output_type": "execute_result"
    }
   ],
   "source": [
    "# Ihre Lösung\n",
    "import numpy as np\n",
    "i=2\n",
    "for values in df[\"gender\"].isna():\n",
    "    if values == True:\n",
    "        df.drop(i,inplace=True)\n",
    "        print(i)\n",
    "    i=i+1\n",
    "#An diesen Stellen ist der Wert nicht vorhanden, i wird auf 2 gesetzt, da Reihe 2 die erste mit Werten ist\n",
    "df[\"gender\"].isna().sum()\n"
   ]
  },
  {
   "cell_type": "markdown",
   "metadata": {},
   "source": [
    "Auch in der Spalte `last_raise` gibt es fehlende Werte."
   ]
  },
  {
   "cell_type": "code",
   "execution_count": 196,
   "metadata": {
    "ExecuteTime": {
     "end_time": "2022-02-23T10:22:46.827632Z",
     "start_time": "2022-02-23T10:22:46.812008Z"
    }
   },
   "outputs": [
    {
     "data": {
      "text/plain": [
       "0"
      ]
     },
     "execution_count": 196,
     "metadata": {},
     "output_type": "execute_result"
    }
   ],
   "source": [
    "df[\"last_raise\"].isna().sum()"
   ]
  },
  {
   "cell_type": "markdown",
   "metadata": {},
   "source": [
    "Entscheiden Sie sich hier ebenfalls für eine geeignete Imputation-Strategie und begründen Sie Ihre Wahl."
   ]
  },
  {
   "cell_type": "code",
   "execution_count": 174,
   "metadata": {
    "ExecuteTime": {
     "end_time": "2022-02-23T10:22:46.866925Z",
     "start_time": "2022-02-23T10:22:46.827632Z"
    }
   },
   "outputs": [
    {
     "name": "stdout",
     "output_type": "stream",
     "text": [
      "Der Anteil beträgt 94.76861167002012%\n"
     ]
    }
   ],
   "source": [
    "# Ihre Analysen\n",
    "percentile= 100*471/len(df)\n",
    "\n",
    "print((\"Der Anteil beträgt {}%\".format(percentile)))"
   ]
  },
  {
   "cell_type": "raw",
   "metadata": {},
   "source": [
    "Ihre Begründung:\n",
    "Da hier fast 95% der Reihen betroffen sind, ist das Löschen keine Option. Den Wert zu ersetzen ergibt auch keinen Sinn, da die betroffenen Mitarbeiter wahrscheinlich nie eine\n",
    "Gehaltserhöhung erhalten haben. Es bleiben zwei Möglichkeiten: Einen neuen nichtskalaren Wert, oder 0 verwenden. 0 Beeinflusst das Ergebnis weiterer Analysen eventuell, aber scheint in diesem\n",
    "Fall zutreffend zu sein. Deswegen kann hier meiner Meinung nach diese Methode angewendet werden."
   ]
  },
  {
   "cell_type": "code",
   "execution_count": 193,
   "metadata": {
    "ExecuteTime": {
     "end_time": "2022-02-23T10:22:46.951610Z",
     "start_time": "2022-02-23T10:22:46.929424Z"
    }
   },
   "outputs": [
    {
     "data": {
      "text/html": [
       "<div>\n",
       "<style scoped>\n",
       "    .dataframe tbody tr th:only-of-type {\n",
       "        vertical-align: middle;\n",
       "    }\n",
       "\n",
       "    .dataframe tbody tr th {\n",
       "        vertical-align: top;\n",
       "    }\n",
       "\n",
       "    .dataframe thead th {\n",
       "        text-align: right;\n",
       "    }\n",
       "</style>\n",
       "<table border=\"1\" class=\"dataframe\">\n",
       "  <thead>\n",
       "    <tr style=\"text-align: right;\">\n",
       "      <th></th>\n",
       "      <th>emp_id</th>\n",
       "      <th>age</th>\n",
       "      <th>department</th>\n",
       "      <th>education</th>\n",
       "      <th>recruitment_type</th>\n",
       "      <th>job_level</th>\n",
       "      <th>rating</th>\n",
       "      <th>awards</th>\n",
       "      <th>certifications</th>\n",
       "      <th>salary</th>\n",
       "      <th>gender</th>\n",
       "      <th>entry_date</th>\n",
       "      <th>last_raise</th>\n",
       "      <th>satisfied</th>\n",
       "    </tr>\n",
       "  </thead>\n",
       "  <tbody>\n",
       "    <tr>\n",
       "      <th>0</th>\n",
       "      <td>HR8270</td>\n",
       "      <td>28</td>\n",
       "      <td>HR</td>\n",
       "      <td>Postgraduate</td>\n",
       "      <td>Referral</td>\n",
       "      <td>5</td>\n",
       "      <td>2.0</td>\n",
       "      <td>1</td>\n",
       "      <td>0</td>\n",
       "      <td>78075.0</td>\n",
       "      <td>Male</td>\n",
       "      <td>2019-02-01</td>\n",
       "      <td>0.00</td>\n",
       "      <td>1</td>\n",
       "    </tr>\n",
       "    <tr>\n",
       "      <th>1</th>\n",
       "      <td>TECH1860</td>\n",
       "      <td>50</td>\n",
       "      <td>Technology</td>\n",
       "      <td>Postgraduate</td>\n",
       "      <td>Recruitment Agency</td>\n",
       "      <td>3</td>\n",
       "      <td>5.0</td>\n",
       "      <td>2</td>\n",
       "      <td>1</td>\n",
       "      <td>38177.1</td>\n",
       "      <td>Male</td>\n",
       "      <td>2017-01-17</td>\n",
       "      <td>0.00</td>\n",
       "      <td>0</td>\n",
       "    </tr>\n",
       "    <tr>\n",
       "      <th>2</th>\n",
       "      <td>TECH6390</td>\n",
       "      <td>43</td>\n",
       "      <td>Technology</td>\n",
       "      <td>Undergraduate</td>\n",
       "      <td>Referral</td>\n",
       "      <td>4</td>\n",
       "      <td>1.0</td>\n",
       "      <td>2</td>\n",
       "      <td>0</td>\n",
       "      <td>59143.5</td>\n",
       "      <td>Female</td>\n",
       "      <td>2012-08-27</td>\n",
       "      <td>0.00</td>\n",
       "      <td>1</td>\n",
       "    </tr>\n",
       "    <tr>\n",
       "      <th>3</th>\n",
       "      <td>SAL6191</td>\n",
       "      <td>44</td>\n",
       "      <td>Sales</td>\n",
       "      <td>Postgraduate</td>\n",
       "      <td>On-Campus</td>\n",
       "      <td>2</td>\n",
       "      <td>3.0</td>\n",
       "      <td>0</td>\n",
       "      <td>0</td>\n",
       "      <td>26824.5</td>\n",
       "      <td>Female</td>\n",
       "      <td>2017-07-25</td>\n",
       "      <td>0.00</td>\n",
       "      <td>1</td>\n",
       "    </tr>\n",
       "    <tr>\n",
       "      <th>4</th>\n",
       "      <td>HR6734</td>\n",
       "      <td>33</td>\n",
       "      <td>HR</td>\n",
       "      <td>Undergraduate</td>\n",
       "      <td>Recruitment Agency</td>\n",
       "      <td>2</td>\n",
       "      <td>1.0</td>\n",
       "      <td>5</td>\n",
       "      <td>0</td>\n",
       "      <td>26824.5</td>\n",
       "      <td>Male</td>\n",
       "      <td>2019-05-17</td>\n",
       "      <td>0.00</td>\n",
       "      <td>1</td>\n",
       "    </tr>\n",
       "    <tr>\n",
       "      <th>5</th>\n",
       "      <td>PUR7265</td>\n",
       "      <td>40</td>\n",
       "      <td>Purchasing</td>\n",
       "      <td>Undergraduate</td>\n",
       "      <td>Walk-in</td>\n",
       "      <td>3</td>\n",
       "      <td>3.0</td>\n",
       "      <td>7</td>\n",
       "      <td>1</td>\n",
       "      <td>38177.1</td>\n",
       "      <td>Male</td>\n",
       "      <td>2004-04-22</td>\n",
       "      <td>0.02</td>\n",
       "      <td>1</td>\n",
       "    </tr>\n",
       "    <tr>\n",
       "      <th>6</th>\n",
       "      <td>PUR1466</td>\n",
       "      <td>26</td>\n",
       "      <td>Purchasing</td>\n",
       "      <td>Undergraduate</td>\n",
       "      <td>Referral</td>\n",
       "      <td>5</td>\n",
       "      <td>5.0</td>\n",
       "      <td>2</td>\n",
       "      <td>0</td>\n",
       "      <td>78075.0</td>\n",
       "      <td>Male</td>\n",
       "      <td>2019-12-10</td>\n",
       "      <td>0.00</td>\n",
       "      <td>1</td>\n",
       "    </tr>\n",
       "    <tr>\n",
       "      <th>7</th>\n",
       "      <td>TECH5426</td>\n",
       "      <td>25</td>\n",
       "      <td>Technology</td>\n",
       "      <td>Undergraduate</td>\n",
       "      <td>Recruitment Agency</td>\n",
       "      <td>1</td>\n",
       "      <td>1.0</td>\n",
       "      <td>4</td>\n",
       "      <td>0</td>\n",
       "      <td>21668.4</td>\n",
       "      <td>Female</td>\n",
       "      <td>2017-03-18</td>\n",
       "      <td>0.00</td>\n",
       "      <td>0</td>\n",
       "    </tr>\n",
       "    <tr>\n",
       "      <th>8</th>\n",
       "      <td>HR6578</td>\n",
       "      <td>35</td>\n",
       "      <td>HR</td>\n",
       "      <td>Postgraduate</td>\n",
       "      <td>Referral</td>\n",
       "      <td>3</td>\n",
       "      <td>4.0</td>\n",
       "      <td>0</td>\n",
       "      <td>0</td>\n",
       "      <td>38177.1</td>\n",
       "      <td>Female</td>\n",
       "      <td>2015-04-02</td>\n",
       "      <td>0.00</td>\n",
       "      <td>1</td>\n",
       "    </tr>\n",
       "    <tr>\n",
       "      <th>9</th>\n",
       "      <td>TECH9322</td>\n",
       "      <td>45</td>\n",
       "      <td>Technology</td>\n",
       "      <td>Postgraduate</td>\n",
       "      <td>Referral</td>\n",
       "      <td>3</td>\n",
       "      <td>3.0</td>\n",
       "      <td>9</td>\n",
       "      <td>0</td>\n",
       "      <td>38177.1</td>\n",
       "      <td>Female</td>\n",
       "      <td>2004-03-19</td>\n",
       "      <td>0.07</td>\n",
       "      <td>0</td>\n",
       "    </tr>\n",
       "  </tbody>\n",
       "</table>\n",
       "</div>"
      ],
      "text/plain": [
       "     emp_id  age  department      education    recruitment_type  job_level  \\\n",
       "0    HR8270   28          HR   Postgraduate            Referral          5   \n",
       "1  TECH1860   50  Technology   Postgraduate  Recruitment Agency          3   \n",
       "2  TECH6390   43  Technology  Undergraduate            Referral          4   \n",
       "3   SAL6191   44       Sales   Postgraduate           On-Campus          2   \n",
       "4    HR6734   33          HR  Undergraduate  Recruitment Agency          2   \n",
       "5   PUR7265   40  Purchasing  Undergraduate             Walk-in          3   \n",
       "6   PUR1466   26  Purchasing  Undergraduate            Referral          5   \n",
       "7  TECH5426   25  Technology  Undergraduate  Recruitment Agency          1   \n",
       "8    HR6578   35          HR   Postgraduate            Referral          3   \n",
       "9  TECH9322   45  Technology   Postgraduate            Referral          3   \n",
       "\n",
       "   rating  awards  certifications   salary  gender entry_date  last_raise  \\\n",
       "0     2.0       1               0  78075.0    Male 2019-02-01        0.00   \n",
       "1     5.0       2               1  38177.1    Male 2017-01-17        0.00   \n",
       "2     1.0       2               0  59143.5  Female 2012-08-27        0.00   \n",
       "3     3.0       0               0  26824.5  Female 2017-07-25        0.00   \n",
       "4     1.0       5               0  26824.5    Male 2019-05-17        0.00   \n",
       "5     3.0       7               1  38177.1    Male 2004-04-22        0.02   \n",
       "6     5.0       2               0  78075.0    Male 2019-12-10        0.00   \n",
       "7     1.0       4               0  21668.4  Female 2017-03-18        0.00   \n",
       "8     4.0       0               0  38177.1  Female 2015-04-02        0.00   \n",
       "9     3.0       9               0  38177.1  Female 2004-03-19        0.07   \n",
       "\n",
       "   satisfied  \n",
       "0          1  \n",
       "1          0  \n",
       "2          1  \n",
       "3          1  \n",
       "4          1  \n",
       "5          1  \n",
       "6          1  \n",
       "7          0  \n",
       "8          1  \n",
       "9          0  "
      ]
     },
     "execution_count": 193,
     "metadata": {},
     "output_type": "execute_result"
    }
   ],
   "source": [
    "df.last_raise.fillna(0,inplace=True)\n",
    "df.head(10)"
   ]
  },
  {
   "cell_type": "markdown",
   "metadata": {},
   "source": [
    "Eine weitere Spalte mit fehlenden Werten ist `rating`."
   ]
  },
  {
   "cell_type": "code",
   "execution_count": 192,
   "metadata": {
    "ExecuteTime": {
     "end_time": "2022-02-23T10:22:46.967235Z",
     "start_time": "2022-02-23T10:22:46.951610Z"
    }
   },
   "outputs": [
    {
     "data": {
      "text/plain": [
       "29"
      ]
     },
     "execution_count": 192,
     "metadata": {},
     "output_type": "execute_result"
    }
   ],
   "source": [
    "df[\"rating\"].isna().sum()"
   ]
  },
  {
   "cell_type": "markdown",
   "metadata": {},
   "source": [
    "Entscheiden Sie sich hier ebenfalls für eine geeignete Imputation-Strategie und begründen Sie Ihre Wahl."
   ]
  },
  {
   "cell_type": "code",
   "execution_count": 204,
   "metadata": {
    "ExecuteTime": {
     "end_time": "2022-02-23T10:22:46.998487Z",
     "start_time": "2022-02-23T10:22:46.967235Z"
    }
   },
   "outputs": [
    {
     "name": "stdout",
     "output_type": "stream",
     "text": [
      "Der Anteil beträgt 5.835010060362173%\n"
     ]
    },
    {
     "data": {
      "text/plain": [
       "3.0"
      ]
     },
     "execution_count": 204,
     "metadata": {},
     "output_type": "execute_result"
    }
   ],
   "source": [
    "# Ihre Analysen\n",
    "df.head(10)\n",
    "percentile= 100*df[\"rating\"].isna().sum()/len(df)\n",
    "\n",
    "print((\"Der Anteil beträgt {}%\".format(percentile)))\n",
    "df.rating.mean()\n",
    "df.rating.median()\n"
   ]
  },
  {
   "cell_type": "raw",
   "metadata": {},
   "source": [
    "Ihre Begründung:\n",
    "Da der Mittelwert sehr nah an 3 liegt und hier nur ein mittelmäßig großer Teil des Datensatzes betroffen ist (5%), können hier nicht vorhandene Werte mit einer 3 erstetzt werden.\n",
    "Es wird also die Methode Median Imputation gewählt (Mittelwert nahe am Median und nur ganze Werte möglich)"
   ]
  },
  {
   "cell_type": "code",
   "execution_count": 205,
   "metadata": {
    "ExecuteTime": {
     "end_time": "2022-02-23T10:22:47.014112Z",
     "start_time": "2022-02-23T10:22:46.998487Z"
    }
   },
   "outputs": [
    {
     "data": {
      "text/plain": [
       "0"
      ]
     },
     "execution_count": 205,
     "metadata": {},
     "output_type": "execute_result"
    }
   ],
   "source": [
    "# Ihre Lösung\n",
    "df.rating.fillna(3,inplace=True)\n",
    "#Test ob gefüllt wurde\n",
    "df[\"rating\"].isna().sum()"
   ]
  },
  {
   "cell_type": "markdown",
   "metadata": {},
   "source": [
    "## Ausreißer"
   ]
  },
  {
   "cell_type": "markdown",
   "metadata": {},
   "source": [
    "Betrachten wir die Histogramme für die Spalten `awards` und `certifications`:"
   ]
  },
  {
   "cell_type": "code",
   "execution_count": 179,
   "metadata": {
    "ExecuteTime": {
     "end_time": "2022-02-23T10:22:47.615623Z",
     "start_time": "2022-02-23T10:22:47.014112Z"
    }
   },
   "outputs": [
    {
     "data": {
      "image/png": "[encoded data removed]",
      "text/plain": [
       "<Figure size 640x480 with 1 Axes>"
      ]
     },
     "metadata": {},
     "output_type": "display_data"
    },
    {
     "data": {
      "image/png": "[encoded data removed]",
      "text/plain": [
       "<Figure size 640x480 with 1 Axes>"
      ]
     },
     "metadata": {},
     "output_type": "display_data"
    }
   ],
   "source": [
    "for col in [\"awards\", \"certifications\"]:\n",
    "    df.hist(col)"
   ]
  },
  {
   "cell_type": "markdown",
   "metadata": {},
   "source": [
    "In diesen beiden Spalten scheint es Ausreißer in Werten zu geben."
   ]
  },
  {
   "cell_type": "markdown",
   "metadata": {},
   "source": [
    "Betrachten wir zunächst die Spalte `awards`. Identifizieren Sie die Zeile, in der der Ausreißer vorkommt, und überlegen Sie sich eine geeignete Strategie, um mit diesem Wert umzugehen."
   ]
  },
  {
   "cell_type": "code",
   "execution_count": 211,
   "metadata": {
    "ExecuteTime": {
     "end_time": "2022-02-23T10:22:47.631652Z",
     "start_time": "2022-02-23T10:22:47.618619Z"
    }
   },
   "outputs": [
    {
     "name": "stdout",
     "output_type": "stream",
     "text": [
      "235\n",
      "25\n"
     ]
    }
   ],
   "source": [
    "# Ihre Analysen\n",
    "i=2\n",
    "for award in df[\"awards\"]:\n",
    "    if award > 10:\n",
    "        print(i)\n",
    "        print(award)\n",
    "    i=i+1\n"
   ]
  },
  {
   "cell_type": "raw",
   "metadata": {},
   "source": [
    "Ihre Begründung:\n",
    "Dieser Reihe kann entweder komplett gelöscht werden oder durch den Median ersetzt werden. In diesem Fall ist auch beides vertretbar, da es sich nur um einen einzelnen Wert handelt.\n",
    "Ich würde in diesem Fall den Wert auf den Median anpassen, da hier die restlichen Informationen weiterverwertet werden können."
   ]
  },
  {
   "cell_type": "code",
   "execution_count": 231,
   "metadata": {
    "ExecuteTime": {
     "end_time": "2022-02-23T10:22:47.663623Z",
     "start_time": "2022-02-23T10:22:47.649619Z"
    }
   },
   "outputs": [
    {
     "name": "stdout",
     "output_type": "stream",
     "text": [
      "5.0\n",
      "5\n"
     ]
    }
   ],
   "source": [
    "# Ihre Lösung\n",
    "print(df.awards.median())\n",
    "df['awards'] = df['awards'].replace(25,df.awards.median())\n",
    "\n",
    "print(df.iloc[233][\"awards\"])"
   ]
  },
  {
   "cell_type": "markdown",
   "metadata": {},
   "source": [
    "Wenden wir uns nun der Spalte `certifications` zu. Identifizieren Sie auch hier den Ausreißer und überlegen Sie sich eine geeignete Strategie, um mit diesem Wert umzugehen."
   ]
  },
  {
   "cell_type": "code",
   "execution_count": 233,
   "metadata": {
    "ExecuteTime": {
     "end_time": "2022-02-23T10:22:47.679619Z",
     "start_time": "2022-02-23T10:22:47.667626Z"
    }
   },
   "outputs": [
    {
     "name": "stdout",
     "output_type": "stream",
     "text": [
      "131\n",
      "9\n"
     ]
    }
   ],
   "source": [
    "# Ihre Analysen\n",
    "i=2\n",
    "for cert in df[\"certifications\"]:\n",
    "    if cert > 1:\n",
    "        print(i)\n",
    "        print(cert)\n",
    "    i=i+1\n"
   ]
  },
  {
   "cell_type": "raw",
   "metadata": {},
   "source": [
    "Ihre Begründung:\n",
    "Dieser Ausreißer verhält sich ähnlich wie der zuvor, da es aber nur einen von zwei Werten gibt, liegt die Wahrscheinlichkeit diesen richtig einzuordnen bei ungefähr (laut Histogramm) 50%.\n",
    "Auch hier ist die Auswirkung auf weitere Ergebnisse vernachlässigbar und es wird der Wert 0 angenommen."
   ]
  },
  {
   "cell_type": "code",
   "execution_count": 238,
   "metadata": {
    "ExecuteTime": {
     "end_time": "2022-02-23T10:22:47.725628Z",
     "start_time": "2022-02-23T10:22:47.711618Z"
    }
   },
   "outputs": [
    {
     "name": "stdout",
     "output_type": "stream",
     "text": [
      "0\n"
     ]
    }
   ],
   "source": [
    "# Ihre Lösung\n",
    "df['certifications'] = df['certifications'].replace(9,df.certifications.median())\n",
    "print(df.iloc[129][\"certifications\"])\n",
    "#Test\n",
    "i=2\n",
    "for cert in df[\"certifications\"]:\n",
    "    if cert > 1:\n",
    "        print(i)\n",
    "        print(cert)\n",
    "    i=i+1"
   ]
  },
  {
   "cell_type": "markdown",
   "metadata": {},
   "source": [
    "Keine Ausgabe von Zertifikaten --> Fehler wurde ersetzt"
   ]
  },
  {
   "cell_type": "markdown",
   "metadata": {},
   "source": [
    "## Spalten/Zeilen löschen"
   ]
  },
  {
   "cell_type": "markdown",
   "metadata": {},
   "source": [
    "Betrachten wir die Spalte `emp_id`. Aus wie vielen einzigartigen Werten besteht diese?"
   ]
  },
  {
   "cell_type": "code",
   "execution_count": 240,
   "metadata": {
    "ExecuteTime": {
     "end_time": "2022-02-23T10:22:47.757626Z",
     "start_time": "2022-02-23T10:22:47.734640Z"
    }
   },
   "outputs": [
    {
     "data": {
      "text/plain": [
       "496"
      ]
     },
     "execution_count": 240,
     "metadata": {},
     "output_type": "execute_result"
    }
   ],
   "source": [
    "# Ihre Lösung\n",
    "len(df[\"emp_id\"].unique())"
   ]
  },
  {
   "cell_type": "markdown",
   "metadata": {},
   "source": [
    "Scheinbar gibt es eine ID doppelt. Schauen wir uns zunächst die Zeilen an, die die gleiche `emp_id` besitzen. Identifizieren Sie hierzu, um welche ID es sich handelt und lassen Sie sich dann die zugehörigen Zeilen ausgeben."
   ]
  },
  {
   "cell_type": "code",
   "execution_count": 245,
   "metadata": {
    "ExecuteTime": {
     "end_time": "2022-02-23T10:22:47.810999Z",
     "start_time": "2022-02-23T10:22:47.764407Z"
    }
   },
   "outputs": [
    {
     "name": "stdout",
     "output_type": "stream",
     "text": [
      "[215]\n",
      "MKT7287\n"
     ]
    }
   ],
   "source": [
    "# Ihre Lösung\n",
    "duplikate=df[\"emp_id\"].duplicated()\n",
    "print(duplikate[duplikate == True].index.tolist())\n",
    "print(df.iloc[215][\"emp_id\"])"
   ]
  },
  {
   "cell_type": "markdown",
   "metadata": {},
   "source": [
    "Wählen Sie eine geeignete Strategie, um mit diesem Duplikat umzugehen. Begründen Sie Ihre Entscheidung."
   ]
  },
  {
   "cell_type": "raw",
   "metadata": {},
   "source": [
    "Ihre Begründung:\n",
    "Bei Wert 215 befindet sich ein Duplikat (MKT7287). Da diese Spalte sich nicht zuordnen lässt, kann sie gelöscht werden."
   ]
  },
  {
   "cell_type": "code",
   "execution_count": 246,
   "metadata": {
    "ExecuteTime": {
     "end_time": "2022-02-23T10:22:47.924473Z",
     "start_time": "2022-02-23T10:22:47.908834Z"
    }
   },
   "outputs": [
    {
     "name": "stdout",
     "output_type": "stream",
     "text": [
      "497\n",
      "496\n"
     ]
    }
   ],
   "source": [
    "# Ihre Lösung\n",
    "print(len(df))\n",
    "df.drop(duplikate[duplikate == True].index.tolist(),inplace=True)\n",
    "print(len(df))"
   ]
  },
  {
   "cell_type": "markdown",
   "metadata": {},
   "source": [
    "Betrachten wir nun die Werte der Spalte `emp_id`. Bringen diese Informationen einen Mehrwert zu der Vorhersage der Zufriedenheit? Wenn ja, bleibt die Spalte im Datensatz, wenn nein, transformieren Sie den Datensatz entsprechend."
   ]
  },
  {
   "cell_type": "raw",
   "metadata": {},
   "source": [
    "Ihre Entscheidung:\n",
    "Nein! Die einzig sinnvolle Information darin ist die Abteilung und diese wird in einer späteren Spalte nochmals aufgeführt. Hierüber lassen sich nur Rückschlüsse auf den Mitarbeiter treffen,\n",
    "was in einer Umfrage zur Zufriedenheit nichts verloren hat."
   ]
  },
  {
   "cell_type": "code",
   "execution_count": 248,
   "metadata": {
    "ExecuteTime": {
     "end_time": "2022-02-23T10:22:47.953638Z",
     "start_time": "2022-02-23T10:22:47.924473Z"
    }
   },
   "outputs": [],
   "source": [
    "# Ihre Lösung\n",
    "df = df.drop('emp_id', axis=1)"
   ]
  },
  {
   "cell_type": "markdown",
   "metadata": {},
   "source": [
    "## Daten speichern"
   ]
  },
  {
   "cell_type": "code",
   "execution_count": 252,
   "metadata": {
    "ExecuteTime": {
     "end_time": "2022-02-23T10:22:47.984879Z",
     "start_time": "2022-02-23T10:22:47.953638Z"
    }
   },
   "outputs": [
    {
     "data": {
      "text/html": [
       "<div>\n",
       "<style scoped>\n",
       "    .dataframe tbody tr th:only-of-type {\n",
       "        vertical-align: middle;\n",
       "    }\n",
       "\n",
       "    .dataframe tbody tr th {\n",
       "        vertical-align: top;\n",
       "    }\n",
       "\n",
       "    .dataframe thead th {\n",
       "        text-align: right;\n",
       "    }\n",
       "</style>\n",
       "<table border=\"1\" class=\"dataframe\">\n",
       "  <thead>\n",
       "    <tr style=\"text-align: right;\">\n",
       "      <th></th>\n",
       "      <th>age</th>\n",
       "      <th>department</th>\n",
       "      <th>education</th>\n",
       "      <th>recruitment_type</th>\n",
       "      <th>job_level</th>\n",
       "      <th>rating</th>\n",
       "      <th>awards</th>\n",
       "      <th>certifications</th>\n",
       "      <th>salary</th>\n",
       "      <th>gender</th>\n",
       "      <th>entry_date</th>\n",
       "      <th>last_raise</th>\n",
       "      <th>satisfied</th>\n",
       "    </tr>\n",
       "  </thead>\n",
       "  <tbody>\n",
       "    <tr>\n",
       "      <th>0</th>\n",
       "      <td>28</td>\n",
       "      <td>HR</td>\n",
       "      <td>Postgraduate</td>\n",
       "      <td>Referral</td>\n",
       "      <td>5</td>\n",
       "      <td>2.0</td>\n",
       "      <td>1</td>\n",
       "      <td>0</td>\n",
       "      <td>78075.0</td>\n",
       "      <td>Male</td>\n",
       "      <td>2019-02-01</td>\n",
       "      <td>0.0</td>\n",
       "      <td>1</td>\n",
       "    </tr>\n",
       "    <tr>\n",
       "      <th>1</th>\n",
       "      <td>50</td>\n",
       "      <td>Technology</td>\n",
       "      <td>Postgraduate</td>\n",
       "      <td>Recruitment Agency</td>\n",
       "      <td>3</td>\n",
       "      <td>5.0</td>\n",
       "      <td>2</td>\n",
       "      <td>1</td>\n",
       "      <td>38177.1</td>\n",
       "      <td>Male</td>\n",
       "      <td>2017-01-17</td>\n",
       "      <td>0.0</td>\n",
       "      <td>0</td>\n",
       "    </tr>\n",
       "    <tr>\n",
       "      <th>2</th>\n",
       "      <td>43</td>\n",
       "      <td>Technology</td>\n",
       "      <td>Undergraduate</td>\n",
       "      <td>Referral</td>\n",
       "      <td>4</td>\n",
       "      <td>1.0</td>\n",
       "      <td>2</td>\n",
       "      <td>0</td>\n",
       "      <td>59143.5</td>\n",
       "      <td>Female</td>\n",
       "      <td>2012-08-27</td>\n",
       "      <td>0.0</td>\n",
       "      <td>1</td>\n",
       "    </tr>\n",
       "    <tr>\n",
       "      <th>3</th>\n",
       "      <td>44</td>\n",
       "      <td>Sales</td>\n",
       "      <td>Postgraduate</td>\n",
       "      <td>On-Campus</td>\n",
       "      <td>2</td>\n",
       "      <td>3.0</td>\n",
       "      <td>0</td>\n",
       "      <td>0</td>\n",
       "      <td>26824.5</td>\n",
       "      <td>Female</td>\n",
       "      <td>2017-07-25</td>\n",
       "      <td>0.0</td>\n",
       "      <td>1</td>\n",
       "    </tr>\n",
       "    <tr>\n",
       "      <th>4</th>\n",
       "      <td>33</td>\n",
       "      <td>HR</td>\n",
       "      <td>Undergraduate</td>\n",
       "      <td>Recruitment Agency</td>\n",
       "      <td>2</td>\n",
       "      <td>1.0</td>\n",
       "      <td>5</td>\n",
       "      <td>0</td>\n",
       "      <td>26824.5</td>\n",
       "      <td>Male</td>\n",
       "      <td>2019-05-17</td>\n",
       "      <td>0.0</td>\n",
       "      <td>1</td>\n",
       "    </tr>\n",
       "    <tr>\n",
       "      <th>...</th>\n",
       "      <td>...</td>\n",
       "      <td>...</td>\n",
       "      <td>...</td>\n",
       "      <td>...</td>\n",
       "      <td>...</td>\n",
       "      <td>...</td>\n",
       "      <td>...</td>\n",
       "      <td>...</td>\n",
       "      <td>...</td>\n",
       "      <td>...</td>\n",
       "      <td>...</td>\n",
       "      <td>...</td>\n",
       "      <td>...</td>\n",
       "    </tr>\n",
       "    <tr>\n",
       "      <th>495</th>\n",
       "      <td>49</td>\n",
       "      <td>HR</td>\n",
       "      <td>Postgraduate</td>\n",
       "      <td>On-Campus</td>\n",
       "      <td>2</td>\n",
       "      <td>5.0</td>\n",
       "      <td>6</td>\n",
       "      <td>0</td>\n",
       "      <td>26824.5</td>\n",
       "      <td>Male</td>\n",
       "      <td>2014-03-21</td>\n",
       "      <td>0.0</td>\n",
       "      <td>1</td>\n",
       "    </tr>\n",
       "    <tr>\n",
       "      <th>496</th>\n",
       "      <td>24</td>\n",
       "      <td>Technology</td>\n",
       "      <td>Undergraduate</td>\n",
       "      <td>Referral</td>\n",
       "      <td>2</td>\n",
       "      <td>4.0</td>\n",
       "      <td>2</td>\n",
       "      <td>0</td>\n",
       "      <td>26824.5</td>\n",
       "      <td>Female</td>\n",
       "      <td>2018-02-20</td>\n",
       "      <td>0.0</td>\n",
       "      <td>0</td>\n",
       "    </tr>\n",
       "    <tr>\n",
       "      <th>497</th>\n",
       "      <td>34</td>\n",
       "      <td>Marketing</td>\n",
       "      <td>Postgraduate</td>\n",
       "      <td>On-Campus</td>\n",
       "      <td>1</td>\n",
       "      <td>3.0</td>\n",
       "      <td>2</td>\n",
       "      <td>0</td>\n",
       "      <td>21668.4</td>\n",
       "      <td>Male</td>\n",
       "      <td>2020-10-20</td>\n",
       "      <td>0.0</td>\n",
       "      <td>1</td>\n",
       "    </tr>\n",
       "    <tr>\n",
       "      <th>498</th>\n",
       "      <td>26</td>\n",
       "      <td>Technology</td>\n",
       "      <td>Undergraduate</td>\n",
       "      <td>Walk-in</td>\n",
       "      <td>2</td>\n",
       "      <td>1.0</td>\n",
       "      <td>1</td>\n",
       "      <td>1</td>\n",
       "      <td>26824.5</td>\n",
       "      <td>Male</td>\n",
       "      <td>2012-05-18</td>\n",
       "      <td>0.0</td>\n",
       "      <td>0</td>\n",
       "    </tr>\n",
       "    <tr>\n",
       "      <th>499</th>\n",
       "      <td>26</td>\n",
       "      <td>Technology</td>\n",
       "      <td>Undergraduate</td>\n",
       "      <td>Recruitment Agency</td>\n",
       "      <td>3</td>\n",
       "      <td>4.0</td>\n",
       "      <td>3</td>\n",
       "      <td>0</td>\n",
       "      <td>38177.1</td>\n",
       "      <td>Male</td>\n",
       "      <td>2018-12-28</td>\n",
       "      <td>0.0</td>\n",
       "      <td>0</td>\n",
       "    </tr>\n",
       "  </tbody>\n",
       "</table>\n",
       "<p>496 rows × 13 columns</p>\n",
       "</div>"
      ],
      "text/plain": [
       "     age  department      education    recruitment_type  job_level  rating  \\\n",
       "0     28          HR   Postgraduate            Referral          5     2.0   \n",
       "1     50  Technology   Postgraduate  Recruitment Agency          3     5.0   \n",
       "2     43  Technology  Undergraduate            Referral          4     1.0   \n",
       "3     44       Sales   Postgraduate           On-Campus          2     3.0   \n",
       "4     33          HR  Undergraduate  Recruitment Agency          2     1.0   \n",
       "..   ...         ...            ...                 ...        ...     ...   \n",
       "495   49          HR   Postgraduate           On-Campus          2     5.0   \n",
       "496   24  Technology  Undergraduate            Referral          2     4.0   \n",
       "497   34   Marketing   Postgraduate           On-Campus          1     3.0   \n",
       "498   26  Technology  Undergraduate             Walk-in          2     1.0   \n",
       "499   26  Technology  Undergraduate  Recruitment Agency          3     4.0   \n",
       "\n",
       "     awards  certifications   salary  gender entry_date  last_raise  satisfied  \n",
       "0         1               0  78075.0    Male 2019-02-01         0.0          1  \n",
       "1         2               1  38177.1    Male 2017-01-17         0.0          0  \n",
       "2         2               0  59143.5  Female 2012-08-27         0.0          1  \n",
       "3         0               0  26824.5  Female 2017-07-25         0.0          1  \n",
       "4         5               0  26824.5    Male 2019-05-17         0.0          1  \n",
       "..      ...             ...      ...     ...        ...         ...        ...  \n",
       "495       6               0  26824.5    Male 2014-03-21         0.0          1  \n",
       "496       2               0  26824.5  Female 2018-02-20         0.0          0  \n",
       "497       2               0  21668.4    Male 2020-10-20         0.0          1  \n",
       "498       1               1  26824.5    Male 2012-05-18         0.0          0  \n",
       "499       3               0  38177.1    Male 2018-12-28         0.0          0  \n",
       "\n",
       "[496 rows x 13 columns]"
      ]
     },
     "execution_count": 252,
     "metadata": {},
     "output_type": "execute_result"
    }
   ],
   "source": [
    "df"
   ]
  },
  {
   "cell_type": "markdown",
   "metadata": {},
   "source": [
    "Wenn, Sie alle Aufgaben korrekt ausgeführt haben, ist die Vorverarbeitung nun abgeschlossen:\n",
    "- Alle Spalten liegen im passenden Datenformat vor\n",
    "- Kategorielle Spalten wurden vereinheitlicht\n",
    "- Es gibt keine Duplikate\n",
    "- Es gibt keine fehlenden Werte\n",
    "- Die Plausibilitätschecks wurden bestanden\n",
    "\n",
    "Speichern Sie den von Ihnen transformierten Datensatz unter dem Namen `employees_satisfaction_transformed.csv` ab."
   ]
  },
  {
   "cell_type": "code",
   "execution_count": 254,
   "metadata": {
    "ExecuteTime": {
     "end_time": "2022-02-23T10:22:48.000506Z",
     "start_time": "2022-02-23T10:22:47.984879Z"
    }
   },
   "outputs": [],
   "source": [
    "# Ihre Lösung\n",
    "df.to_csv('employees_satisfaction_transformed.csv')"
   ]
  }
 ],
 "metadata": {
  "kernelspec": {
   "display_name": "Python 3 (ipykernel)",
   "language": "python",
   "name": "python3"
  },
  "language_info": {
   "codemirror_mode": {
    "name": "ipython",
    "version": 3
   },
   "file_extension": ".py",
   "mimetype": "text/x-python",
   "name": "python",
   "nbconvert_exporter": "python",
   "pygments_lexer": "ipython3",
   "version": "3.10.8"
  },
  "toc": {
   "base_numbering": 1,
   "nav_menu": {},
   "number_sections": true,
   "sideBar": true,
   "skip_h1_title": true,
   "title_cell": "Table of Contents",
   "title_sidebar": "Contents",
   "toc_cell": false,
   "toc_position": {
    "height": "calc(100% - 180px)",
    "left": "10px",
    "top": "150px",
    "width": "307.2px"
   },
   "toc_section_display": true,
   "toc_window_display": true
  }
 },
 "nbformat": 4,
 "nbformat_minor": 4
}
